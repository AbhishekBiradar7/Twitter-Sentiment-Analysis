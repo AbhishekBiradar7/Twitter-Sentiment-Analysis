{
 "cells": [
  {
   "cell_type": "markdown",
   "id": "nominated-flour",
   "metadata": {},
   "source": [
    "# Problem Statement \n",
    "\n",
    "You want to collect text data using Twitter API\n",
    "\n",
    "https://developer.twitter.com/en\n",
    "\n",
    "\n",
    "__Consumer key__\n",
    "\n",
    "__API KEY:__  8Xu9vfB3mvDoDBcbdpE5U4se5\n",
    "\n",
    "__API Secret key:__ 1XMBfMhWqO21vnqQR2LjwizbLd3mHxPHKfWpJTQzVPJjRgGnPE\n",
    "\n",
    "__Access token:__ 374514313-RpCn2ZBKQUPyJldXgKk6uK0I2Aeu0nZwOc5vfIfQ\n",
    "\n",
    "__Access token secret:__ Ysagnu8gYUwnah2q69PbyPTXBgEnkltjxeD9r4gdEetXo"
   ]
  },
  {
   "cell_type": "code",
   "execution_count": 24,
   "id": "social-humanitarian",
   "metadata": {},
   "outputs": [],
   "source": [
    "import numpy as np\n",
    "import pandas as pd\n",
    "import warnings\n",
    "warnings.filterwarnings('ignore')\n",
    "import json"
   ]
  },
  {
   "cell_type": "code",
   "execution_count": 25,
   "id": "built-clone",
   "metadata": {},
   "outputs": [],
   "source": [
    "import tweepy\n",
    "import openpyxl\n",
    "from tweepy import OAuthHandler"
   ]
  },
  {
   "cell_type": "code",
   "execution_count": 26,
   "id": "equal-polish",
   "metadata": {},
   "outputs": [],
   "source": [
    "# Credentials\n",
    "\n",
    "consumer_key = \"8Xu9vfB3mvDoDBcbdpE5U4se5\"\n",
    "consumer_secret = \"1XMBfMhWqO21vnqQR2LjwizbLd3mHxPHKfWpJTQzVPJjRgGnPE\"\n",
    "access_token = \"374514313-RpCn2ZBKQUPyJldXgKk6uK0I2Aeu0nZwOc5vfIfQ\"\n",
    "access_token_secret = \"Ysagnu8gYUwnah2q69PbyPTXBgEnkltjxeD9r4gdEetXo\""
   ]
  },
  {
   "cell_type": "code",
   "execution_count": 27,
   "id": "distinct-paper",
   "metadata": {},
   "outputs": [],
   "source": [
    "# CALL API\n",
    "\n",
    "auth =  tweepy.OAuthHandler(consumer_key,consumer_secret)\n",
    "auth.set_access_token(access_token,access_token_secret)\n",
    "api = tweepy.API(auth)"
   ]
  },
  {
   "cell_type": "code",
   "execution_count": 28,
   "id": "ordered-davis",
   "metadata": {},
   "outputs": [
    {
     "name": "stdout",
     "output_type": "stream",
     "text": [
      "Status(_api=<tweepy.api.API object at 0x0000021C1B2C9988>, _json={'created_at': 'Sat Mar 06 19:30:32 +0000 2021', 'id': 1368282869336997890, 'id_str': '1368282869336997890', 'full_text': '#Bollywood #HemaMalini #vaccination #SaifAliKhan #KamalHaasan PHOTOS: Hema Malini receives COVID-19 vaccine shot in Mumbai - Times of India https://t.co/yETeblwsu0', 'truncated': False, 'display_text_range': [0, 163], 'entities': {'hashtags': [{'text': 'Bollywood', 'indices': [0, 10]}, {'text': 'HemaMalini', 'indices': [11, 22]}, {'text': 'vaccination', 'indices': [23, 35]}, {'text': 'SaifAliKhan', 'indices': [36, 48]}, {'text': 'KamalHaasan', 'indices': [49, 61]}], 'symbols': [], 'user_mentions': [], 'urls': [{'url': 'https://t.co/yETeblwsu0', 'expanded_url': 'http://dlvr.it/Rv68wd', 'display_url': 'dlvr.it/Rv68wd', 'indices': [140, 163]}]}, 'metadata': {'iso_language_code': 'en', 'result_type': 'recent'}, 'source': '<a href=\"https://dlvrit.com/\" rel=\"nofollow\">dlvr.it</a>', 'in_reply_to_status_id': None, 'in_reply_to_status_id_str': None, 'in_reply_to_user_id': None, 'in_reply_to_user_id_str': None, 'in_reply_to_screen_name': None, 'user': {'id': 2780443681, 'id_str': '2780443681', 'name': 'FlaShBloG Live Entertainment ©', 'screen_name': 'FlaShBloGLive', 'location': 'Italia', 'description': 'latest news from around the world. Sports, politics, entertainment, make yourself comfortable and read the news. ....', 'url': 'https://t.co/L8MNLOqSlW', 'entities': {'url': {'urls': [{'url': 'https://t.co/L8MNLOqSlW', 'expanded_url': 'https://globaleventstation.wixsite.com/globaleventstation', 'display_url': 'globaleventstation.wixsite.com/globaleventsta…', 'indices': [0, 23]}]}, 'description': {'urls': []}}, 'protected': False, 'followers_count': 1045, 'friends_count': 4278, 'listed_count': 117, 'created_at': 'Sat Aug 30 11:13:16 +0000 2014', 'favourites_count': 200, 'utc_offset': None, 'time_zone': None, 'geo_enabled': False, 'verified': False, 'statuses_count': 642616, 'lang': None, 'contributors_enabled': False, 'is_translator': False, 'is_translation_enabled': False, 'profile_background_color': '131516', 'profile_background_image_url': 'http://abs.twimg.com/images/themes/theme14/bg.gif', 'profile_background_image_url_https': 'https://abs.twimg.com/images/themes/theme14/bg.gif', 'profile_background_tile': True, 'profile_image_url': 'http://pbs.twimg.com/profile_images/1366295926428610560/rnGEUWG0_normal.jpg', 'profile_image_url_https': 'https://pbs.twimg.com/profile_images/1366295926428610560/rnGEUWG0_normal.jpg', 'profile_banner_url': 'https://pbs.twimg.com/profile_banners/2780443681/1614585020', 'profile_link_color': '112255', 'profile_sidebar_border_color': '000000', 'profile_sidebar_fill_color': '000000', 'profile_text_color': '000000', 'profile_use_background_image': True, 'has_extended_profile': True, 'default_profile': False, 'default_profile_image': False, 'following': False, 'follow_request_sent': False, 'notifications': False, 'translator_type': 'none'}, 'geo': None, 'coordinates': None, 'place': None, 'contributors': None, 'is_quote_status': False, 'retweet_count': 0, 'favorite_count': 0, 'favorited': False, 'retweeted': False, 'possibly_sensitive': False, 'lang': 'en'}, created_at=datetime.datetime(2021, 3, 6, 19, 30, 32), id=1368282869336997890, id_str='1368282869336997890', full_text='#Bollywood #HemaMalini #vaccination #SaifAliKhan #KamalHaasan PHOTOS: Hema Malini receives COVID-19 vaccine shot in Mumbai - Times of India https://t.co/yETeblwsu0', truncated=False, display_text_range=[0, 163], entities={'hashtags': [{'text': 'Bollywood', 'indices': [0, 10]}, {'text': 'HemaMalini', 'indices': [11, 22]}, {'text': 'vaccination', 'indices': [23, 35]}, {'text': 'SaifAliKhan', 'indices': [36, 48]}, {'text': 'KamalHaasan', 'indices': [49, 61]}], 'symbols': [], 'user_mentions': [], 'urls': [{'url': 'https://t.co/yETeblwsu0', 'expanded_url': 'http://dlvr.it/Rv68wd', 'display_url': 'dlvr.it/Rv68wd', 'indices': [140, 163]}]}, metadata={'iso_language_code': 'en', 'result_type': 'recent'}, source='dlvr.it', source_url='https://dlvrit.com/', in_reply_to_status_id=None, in_reply_to_status_id_str=None, in_reply_to_user_id=None, in_reply_to_user_id_str=None, in_reply_to_screen_name=None, author=User(_api=<tweepy.api.API object at 0x0000021C1B2C9988>, _json={'id': 2780443681, 'id_str': '2780443681', 'name': 'FlaShBloG Live Entertainment ©', 'screen_name': 'FlaShBloGLive', 'location': 'Italia', 'description': 'latest news from around the world. Sports, politics, entertainment, make yourself comfortable and read the news. ....', 'url': 'https://t.co/L8MNLOqSlW', 'entities': {'url': {'urls': [{'url': 'https://t.co/L8MNLOqSlW', 'expanded_url': 'https://globaleventstation.wixsite.com/globaleventstation', 'display_url': 'globaleventstation.wixsite.com/globaleventsta…', 'indices': [0, 23]}]}, 'description': {'urls': []}}, 'protected': False, 'followers_count': 1045, 'friends_count': 4278, 'listed_count': 117, 'created_at': 'Sat Aug 30 11:13:16 +0000 2014', 'favourites_count': 200, 'utc_offset': None, 'time_zone': None, 'geo_enabled': False, 'verified': False, 'statuses_count': 642616, 'lang': None, 'contributors_enabled': False, 'is_translator': False, 'is_translation_enabled': False, 'profile_background_color': '131516', 'profile_background_image_url': 'http://abs.twimg.com/images/themes/theme14/bg.gif', 'profile_background_image_url_https': 'https://abs.twimg.com/images/themes/theme14/bg.gif', 'profile_background_tile': True, 'profile_image_url': 'http://pbs.twimg.com/profile_images/1366295926428610560/rnGEUWG0_normal.jpg', 'profile_image_url_https': 'https://pbs.twimg.com/profile_images/1366295926428610560/rnGEUWG0_normal.jpg', 'profile_banner_url': 'https://pbs.twimg.com/profile_banners/2780443681/1614585020', 'profile_link_color': '112255', 'profile_sidebar_border_color': '000000', 'profile_sidebar_fill_color': '000000', 'profile_text_color': '000000', 'profile_use_background_image': True, 'has_extended_profile': True, 'default_profile': False, 'default_profile_image': False, 'following': False, 'follow_request_sent': False, 'notifications': False, 'translator_type': 'none'}, id=2780443681, id_str='2780443681', name='FlaShBloG Live Entertainment ©', screen_name='FlaShBloGLive', location='Italia', description='latest news from around the world. Sports, politics, entertainment, make yourself comfortable and read the news. ....', url='https://t.co/L8MNLOqSlW', entities={'url': {'urls': [{'url': 'https://t.co/L8MNLOqSlW', 'expanded_url': 'https://globaleventstation.wixsite.com/globaleventstation', 'display_url': 'globaleventstation.wixsite.com/globaleventsta…', 'indices': [0, 23]}]}, 'description': {'urls': []}}, protected=False, followers_count=1045, friends_count=4278, listed_count=117, created_at=datetime.datetime(2014, 8, 30, 11, 13, 16), favourites_count=200, utc_offset=None, time_zone=None, geo_enabled=False, verified=False, statuses_count=642616, lang=None, contributors_enabled=False, is_translator=False, is_translation_enabled=False, profile_background_color='131516', profile_background_image_url='http://abs.twimg.com/images/themes/theme14/bg.gif', profile_background_image_url_https='https://abs.twimg.com/images/themes/theme14/bg.gif', profile_background_tile=True, profile_image_url='http://pbs.twimg.com/profile_images/1366295926428610560/rnGEUWG0_normal.jpg', profile_image_url_https='https://pbs.twimg.com/profile_images/1366295926428610560/rnGEUWG0_normal.jpg', profile_banner_url='https://pbs.twimg.com/profile_banners/2780443681/1614585020', profile_link_color='112255', profile_sidebar_border_color='000000', profile_sidebar_fill_color='000000', profile_text_color='000000', profile_use_background_image=True, has_extended_profile=True, default_profile=False, default_profile_image=False, following=False, follow_request_sent=False, notifications=False, translator_type='none'), user=User(_api=<tweepy.api.API object at 0x0000021C1B2C9988>, _json={'id': 2780443681, 'id_str': '2780443681', 'name': 'FlaShBloG Live Entertainment ©', 'screen_name': 'FlaShBloGLive', 'location': 'Italia', 'description': 'latest news from around the world. Sports, politics, entertainment, make yourself comfortable and read the news. ....', 'url': 'https://t.co/L8MNLOqSlW', 'entities': {'url': {'urls': [{'url': 'https://t.co/L8MNLOqSlW', 'expanded_url': 'https://globaleventstation.wixsite.com/globaleventstation', 'display_url': 'globaleventstation.wixsite.com/globaleventsta…', 'indices': [0, 23]}]}, 'description': {'urls': []}}, 'protected': False, 'followers_count': 1045, 'friends_count': 4278, 'listed_count': 117, 'created_at': 'Sat Aug 30 11:13:16 +0000 2014', 'favourites_count': 200, 'utc_offset': None, 'time_zone': None, 'geo_enabled': False, 'verified': False, 'statuses_count': 642616, 'lang': None, 'contributors_enabled': False, 'is_translator': False, 'is_translation_enabled': False, 'profile_background_color': '131516', 'profile_background_image_url': 'http://abs.twimg.com/images/themes/theme14/bg.gif', 'profile_background_image_url_https': 'https://abs.twimg.com/images/themes/theme14/bg.gif', 'profile_background_tile': True, 'profile_image_url': 'http://pbs.twimg.com/profile_images/1366295926428610560/rnGEUWG0_normal.jpg', 'profile_image_url_https': 'https://pbs.twimg.com/profile_images/1366295926428610560/rnGEUWG0_normal.jpg', 'profile_banner_url': 'https://pbs.twimg.com/profile_banners/2780443681/1614585020', 'profile_link_color': '112255', 'profile_sidebar_border_color': '000000', 'profile_sidebar_fill_color': '000000', 'profile_text_color': '000000', 'profile_use_background_image': True, 'has_extended_profile': True, 'default_profile': False, 'default_profile_image': False, 'following': False, 'follow_request_sent': False, 'notifications': False, 'translator_type': 'none'}, id=2780443681, id_str='2780443681', name='FlaShBloG Live Entertainment ©', screen_name='FlaShBloGLive', location='Italia', description='latest news from around the world. Sports, politics, entertainment, make yourself comfortable and read the news. ....', url='https://t.co/L8MNLOqSlW', entities={'url': {'urls': [{'url': 'https://t.co/L8MNLOqSlW', 'expanded_url': 'https://globaleventstation.wixsite.com/globaleventstation', 'display_url': 'globaleventstation.wixsite.com/globaleventsta…', 'indices': [0, 23]}]}, 'description': {'urls': []}}, protected=False, followers_count=1045, friends_count=4278, listed_count=117, created_at=datetime.datetime(2014, 8, 30, 11, 13, 16), favourites_count=200, utc_offset=None, time_zone=None, geo_enabled=False, verified=False, statuses_count=642616, lang=None, contributors_enabled=False, is_translator=False, is_translation_enabled=False, profile_background_color='131516', profile_background_image_url='http://abs.twimg.com/images/themes/theme14/bg.gif', profile_background_image_url_https='https://abs.twimg.com/images/themes/theme14/bg.gif', profile_background_tile=True, profile_image_url='http://pbs.twimg.com/profile_images/1366295926428610560/rnGEUWG0_normal.jpg', profile_image_url_https='https://pbs.twimg.com/profile_images/1366295926428610560/rnGEUWG0_normal.jpg', profile_banner_url='https://pbs.twimg.com/profile_banners/2780443681/1614585020', profile_link_color='112255', profile_sidebar_border_color='000000', profile_sidebar_fill_color='000000', profile_text_color='000000', profile_use_background_image=True, has_extended_profile=True, default_profile=False, default_profile_image=False, following=False, follow_request_sent=False, notifications=False, translator_type='none'), geo=None, coordinates=None, place=None, contributors=None, is_quote_status=False, retweet_count=0, favorite_count=0, favorited=False, retweeted=False, possibly_sensitive=False, lang='en')\n",
      "==============================\n",
      "Status(_api=<tweepy.api.API object at 0x0000021C1B2C9988>, _json={'created_at': 'Sat Mar 06 19:30:18 +0000 2021', 'id': 1368282810054815748, 'id_str': '1368282810054815748', 'full_text': \"Btw, lower-income countries are not currently priced out of the vaccine market. They're buying from another lower-income country instead of depending on a rich country. https://t.co/fSlepICBN9\", 'truncated': False, 'display_text_range': [0, 192], 'entities': {'hashtags': [], 'symbols': [], 'user_mentions': [], 'urls': [{'url': 'https://t.co/fSlepICBN9', 'expanded_url': 'https://www.hindustantimes.com/india-news/india-airlifts-covid-19-vaccines-to-somalia-101615013178003.html', 'display_url': 'hindustantimes.com/india-news/ind…', 'indices': [169, 192]}]}, 'metadata': {'iso_language_code': 'en', 'result_type': 'recent'}, 'source': '<a href=\"http://twitter.com/download/android\" rel=\"nofollow\">Twitter for Android</a>', 'in_reply_to_status_id': 1368282808083509258, 'in_reply_to_status_id_str': '1368282808083509258', 'in_reply_to_user_id': 409743965, 'in_reply_to_user_id_str': '409743965', 'in_reply_to_screen_name': 'PGunigantiAT', 'user': {'id': 409743965, 'id_str': '409743965', 'name': 'Pallavi Guniganti', 'screen_name': 'PGunigantiAT', 'location': '', 'description': 'No legal advice, non-public information nor the views of anyone else. Actual antitrust hipster: I was into #antitrust before it was cool.', 'url': 'https://t.co/tGD0PqK5qu', 'entities': {'url': {'urls': [{'url': 'https://t.co/tGD0PqK5qu', 'expanded_url': 'https://www.ftc.gov/about-ftc/biographies/christine-s-wilson/speeches-articles-testimonies', 'display_url': 'ftc.gov/about-ftc/biog…', 'indices': [0, 23]}]}, 'description': {'urls': []}}, 'protected': False, 'followers_count': 1318, 'friends_count': 240, 'listed_count': 52, 'created_at': 'Fri Nov 11 04:58:27 +0000 2011', 'favourites_count': 691, 'utc_offset': None, 'time_zone': None, 'geo_enabled': False, 'verified': False, 'statuses_count': 13014, 'lang': None, 'contributors_enabled': False, 'is_translator': False, 'is_translation_enabled': False, 'profile_background_color': 'C0DEED', 'profile_background_image_url': 'http://abs.twimg.com/images/themes/theme1/bg.png', 'profile_background_image_url_https': 'https://abs.twimg.com/images/themes/theme1/bg.png', 'profile_background_tile': False, 'profile_image_url': 'http://pbs.twimg.com/profile_images/1189944203033403398/NcegISqQ_normal.jpg', 'profile_image_url_https': 'https://pbs.twimg.com/profile_images/1189944203033403398/NcegISqQ_normal.jpg', 'profile_banner_url': 'https://pbs.twimg.com/profile_banners/409743965/1561342306', 'profile_link_color': '1DA1F2', 'profile_sidebar_border_color': 'C0DEED', 'profile_sidebar_fill_color': 'DDEEF6', 'profile_text_color': '333333', 'profile_use_background_image': True, 'has_extended_profile': False, 'default_profile': True, 'default_profile_image': False, 'following': False, 'follow_request_sent': False, 'notifications': False, 'translator_type': 'none'}, 'geo': None, 'coordinates': None, 'place': None, 'contributors': None, 'is_quote_status': False, 'retweet_count': 0, 'favorite_count': 0, 'favorited': False, 'retweeted': False, 'possibly_sensitive': False, 'lang': 'en'}, created_at=datetime.datetime(2021, 3, 6, 19, 30, 18), id=1368282810054815748, id_str='1368282810054815748', full_text=\"Btw, lower-income countries are not currently priced out of the vaccine market. They're buying from another lower-income country instead of depending on a rich country. https://t.co/fSlepICBN9\", truncated=False, display_text_range=[0, 192], entities={'hashtags': [], 'symbols': [], 'user_mentions': [], 'urls': [{'url': 'https://t.co/fSlepICBN9', 'expanded_url': 'https://www.hindustantimes.com/india-news/india-airlifts-covid-19-vaccines-to-somalia-101615013178003.html', 'display_url': 'hindustantimes.com/india-news/ind…', 'indices': [169, 192]}]}, metadata={'iso_language_code': 'en', 'result_type': 'recent'}, source='Twitter for Android', source_url='http://twitter.com/download/android', in_reply_to_status_id=1368282808083509258, in_reply_to_status_id_str='1368282808083509258', in_reply_to_user_id=409743965, in_reply_to_user_id_str='409743965', in_reply_to_screen_name='PGunigantiAT', author=User(_api=<tweepy.api.API object at 0x0000021C1B2C9988>, _json={'id': 409743965, 'id_str': '409743965', 'name': 'Pallavi Guniganti', 'screen_name': 'PGunigantiAT', 'location': '', 'description': 'No legal advice, non-public information nor the views of anyone else. Actual antitrust hipster: I was into #antitrust before it was cool.', 'url': 'https://t.co/tGD0PqK5qu', 'entities': {'url': {'urls': [{'url': 'https://t.co/tGD0PqK5qu', 'expanded_url': 'https://www.ftc.gov/about-ftc/biographies/christine-s-wilson/speeches-articles-testimonies', 'display_url': 'ftc.gov/about-ftc/biog…', 'indices': [0, 23]}]}, 'description': {'urls': []}}, 'protected': False, 'followers_count': 1318, 'friends_count': 240, 'listed_count': 52, 'created_at': 'Fri Nov 11 04:58:27 +0000 2011', 'favourites_count': 691, 'utc_offset': None, 'time_zone': None, 'geo_enabled': False, 'verified': False, 'statuses_count': 13014, 'lang': None, 'contributors_enabled': False, 'is_translator': False, 'is_translation_enabled': False, 'profile_background_color': 'C0DEED', 'profile_background_image_url': 'http://abs.twimg.com/images/themes/theme1/bg.png', 'profile_background_image_url_https': 'https://abs.twimg.com/images/themes/theme1/bg.png', 'profile_background_tile': False, 'profile_image_url': 'http://pbs.twimg.com/profile_images/1189944203033403398/NcegISqQ_normal.jpg', 'profile_image_url_https': 'https://pbs.twimg.com/profile_images/1189944203033403398/NcegISqQ_normal.jpg', 'profile_banner_url': 'https://pbs.twimg.com/profile_banners/409743965/1561342306', 'profile_link_color': '1DA1F2', 'profile_sidebar_border_color': 'C0DEED', 'profile_sidebar_fill_color': 'DDEEF6', 'profile_text_color': '333333', 'profile_use_background_image': True, 'has_extended_profile': False, 'default_profile': True, 'default_profile_image': False, 'following': False, 'follow_request_sent': False, 'notifications': False, 'translator_type': 'none'}, id=409743965, id_str='409743965', name='Pallavi Guniganti', screen_name='PGunigantiAT', location='', description='No legal advice, non-public information nor the views of anyone else. Actual antitrust hipster: I was into #antitrust before it was cool.', url='https://t.co/tGD0PqK5qu', entities={'url': {'urls': [{'url': 'https://t.co/tGD0PqK5qu', 'expanded_url': 'https://www.ftc.gov/about-ftc/biographies/christine-s-wilson/speeches-articles-testimonies', 'display_url': 'ftc.gov/about-ftc/biog…', 'indices': [0, 23]}]}, 'description': {'urls': []}}, protected=False, followers_count=1318, friends_count=240, listed_count=52, created_at=datetime.datetime(2011, 11, 11, 4, 58, 27), favourites_count=691, utc_offset=None, time_zone=None, geo_enabled=False, verified=False, statuses_count=13014, lang=None, contributors_enabled=False, is_translator=False, is_translation_enabled=False, profile_background_color='C0DEED', profile_background_image_url='http://abs.twimg.com/images/themes/theme1/bg.png', profile_background_image_url_https='https://abs.twimg.com/images/themes/theme1/bg.png', profile_background_tile=False, profile_image_url='http://pbs.twimg.com/profile_images/1189944203033403398/NcegISqQ_normal.jpg', profile_image_url_https='https://pbs.twimg.com/profile_images/1189944203033403398/NcegISqQ_normal.jpg', profile_banner_url='https://pbs.twimg.com/profile_banners/409743965/1561342306', profile_link_color='1DA1F2', profile_sidebar_border_color='C0DEED', profile_sidebar_fill_color='DDEEF6', profile_text_color='333333', profile_use_background_image=True, has_extended_profile=False, default_profile=True, default_profile_image=False, following=False, follow_request_sent=False, notifications=False, translator_type='none'), user=User(_api=<tweepy.api.API object at 0x0000021C1B2C9988>, _json={'id': 409743965, 'id_str': '409743965', 'name': 'Pallavi Guniganti', 'screen_name': 'PGunigantiAT', 'location': '', 'description': 'No legal advice, non-public information nor the views of anyone else. Actual antitrust hipster: I was into #antitrust before it was cool.', 'url': 'https://t.co/tGD0PqK5qu', 'entities': {'url': {'urls': [{'url': 'https://t.co/tGD0PqK5qu', 'expanded_url': 'https://www.ftc.gov/about-ftc/biographies/christine-s-wilson/speeches-articles-testimonies', 'display_url': 'ftc.gov/about-ftc/biog…', 'indices': [0, 23]}]}, 'description': {'urls': []}}, 'protected': False, 'followers_count': 1318, 'friends_count': 240, 'listed_count': 52, 'created_at': 'Fri Nov 11 04:58:27 +0000 2011', 'favourites_count': 691, 'utc_offset': None, 'time_zone': None, 'geo_enabled': False, 'verified': False, 'statuses_count': 13014, 'lang': None, 'contributors_enabled': False, 'is_translator': False, 'is_translation_enabled': False, 'profile_background_color': 'C0DEED', 'profile_background_image_url': 'http://abs.twimg.com/images/themes/theme1/bg.png', 'profile_background_image_url_https': 'https://abs.twimg.com/images/themes/theme1/bg.png', 'profile_background_tile': False, 'profile_image_url': 'http://pbs.twimg.com/profile_images/1189944203033403398/NcegISqQ_normal.jpg', 'profile_image_url_https': 'https://pbs.twimg.com/profile_images/1189944203033403398/NcegISqQ_normal.jpg', 'profile_banner_url': 'https://pbs.twimg.com/profile_banners/409743965/1561342306', 'profile_link_color': '1DA1F2', 'profile_sidebar_border_color': 'C0DEED', 'profile_sidebar_fill_color': 'DDEEF6', 'profile_text_color': '333333', 'profile_use_background_image': True, 'has_extended_profile': False, 'default_profile': True, 'default_profile_image': False, 'following': False, 'follow_request_sent': False, 'notifications': False, 'translator_type': 'none'}, id=409743965, id_str='409743965', name='Pallavi Guniganti', screen_name='PGunigantiAT', location='', description='No legal advice, non-public information nor the views of anyone else. Actual antitrust hipster: I was into #antitrust before it was cool.', url='https://t.co/tGD0PqK5qu', entities={'url': {'urls': [{'url': 'https://t.co/tGD0PqK5qu', 'expanded_url': 'https://www.ftc.gov/about-ftc/biographies/christine-s-wilson/speeches-articles-testimonies', 'display_url': 'ftc.gov/about-ftc/biog…', 'indices': [0, 23]}]}, 'description': {'urls': []}}, protected=False, followers_count=1318, friends_count=240, listed_count=52, created_at=datetime.datetime(2011, 11, 11, 4, 58, 27), favourites_count=691, utc_offset=None, time_zone=None, geo_enabled=False, verified=False, statuses_count=13014, lang=None, contributors_enabled=False, is_translator=False, is_translation_enabled=False, profile_background_color='C0DEED', profile_background_image_url='http://abs.twimg.com/images/themes/theme1/bg.png', profile_background_image_url_https='https://abs.twimg.com/images/themes/theme1/bg.png', profile_background_tile=False, profile_image_url='http://pbs.twimg.com/profile_images/1189944203033403398/NcegISqQ_normal.jpg', profile_image_url_https='https://pbs.twimg.com/profile_images/1189944203033403398/NcegISqQ_normal.jpg', profile_banner_url='https://pbs.twimg.com/profile_banners/409743965/1561342306', profile_link_color='1DA1F2', profile_sidebar_border_color='C0DEED', profile_sidebar_fill_color='DDEEF6', profile_text_color='333333', profile_use_background_image=True, has_extended_profile=False, default_profile=True, default_profile_image=False, following=False, follow_request_sent=False, notifications=False, translator_type='none'), geo=None, coordinates=None, place=None, contributors=None, is_quote_status=False, retweet_count=0, favorite_count=0, favorited=False, retweeted=False, possibly_sensitive=False, lang='en')\n",
      "==============================\n",
      "Status(_api=<tweepy.api.API object at 0x0000021C1B2C9988>, _json={'created_at': 'Sat Mar 06 19:26:31 +0000 2021', 'id': 1368281858631405574, 'id_str': '1368281858631405574', 'full_text': 'His Holiness the Dalai Lama receiving the first dose of COVID-19 vaccine at Zonal Hospital, Dharamshala, H.P., India on March 6, 2021.\\n\\nhttps://t.co/dvz3bHCfeq https://t.co/uc9U2pOiDp', 'truncated': False, 'display_text_range': [0, 159], 'entities': {'hashtags': [], 'symbols': [], 'user_mentions': [], 'urls': [{'url': 'https://t.co/dvz3bHCfeq', 'expanded_url': 'https://buff.ly/3bmXLTt', 'display_url': 'buff.ly/3bmXLTt', 'indices': [136, 159]}], 'media': [{'id': 1368281856957939713, 'id_str': '1368281856957939713', 'indices': [160, 183], 'media_url': 'http://pbs.twimg.com/media/Ev0dGXSXAAEpFHz.jpg', 'media_url_https': 'https://pbs.twimg.com/media/Ev0dGXSXAAEpFHz.jpg', 'url': 'https://t.co/uc9U2pOiDp', 'display_url': 'pic.twitter.com/uc9U2pOiDp', 'expanded_url': 'https://twitter.com/LionsRoar/status/1368281858631405574/photo/1', 'type': 'photo', 'sizes': {'thumb': {'w': 150, 'h': 150, 'resize': 'crop'}, 'large': {'w': 1280, 'h': 720, 'resize': 'fit'}, 'small': {'w': 680, 'h': 383, 'resize': 'fit'}, 'medium': {'w': 1200, 'h': 675, 'resize': 'fit'}}}]}, 'extended_entities': {'media': [{'id': 1368281856957939713, 'id_str': '1368281856957939713', 'indices': [160, 183], 'media_url': 'http://pbs.twimg.com/media/Ev0dGXSXAAEpFHz.jpg', 'media_url_https': 'https://pbs.twimg.com/media/Ev0dGXSXAAEpFHz.jpg', 'url': 'https://t.co/uc9U2pOiDp', 'display_url': 'pic.twitter.com/uc9U2pOiDp', 'expanded_url': 'https://twitter.com/LionsRoar/status/1368281858631405574/photo/1', 'type': 'photo', 'sizes': {'thumb': {'w': 150, 'h': 150, 'resize': 'crop'}, 'large': {'w': 1280, 'h': 720, 'resize': 'fit'}, 'small': {'w': 680, 'h': 383, 'resize': 'fit'}, 'medium': {'w': 1200, 'h': 675, 'resize': 'fit'}}}]}, 'metadata': {'iso_language_code': 'en', 'result_type': 'recent'}, 'source': '<a href=\"https://buffer.com\" rel=\"nofollow\">Buffer</a>', 'in_reply_to_status_id': None, 'in_reply_to_status_id_str': None, 'in_reply_to_user_id': None, 'in_reply_to_user_id_str': None, 'in_reply_to_screen_name': None, 'user': {'id': 17572133, 'id_str': '17572133', 'name': \"Lion's Roar\", 'screen_name': 'LionsRoar', 'location': '', 'description': 'The Lion’s Roar Foundation is a mission-driven, reader-supported publisher of Buddhist teachings, news, and perspectives.', 'url': 'https://t.co/JtE50ZISaM', 'entities': {'url': {'urls': [{'url': 'https://t.co/JtE50ZISaM', 'expanded_url': 'https://www.lionsroar.com', 'display_url': 'lionsroar.com', 'indices': [0, 23]}]}, 'description': {'urls': []}}, 'protected': False, 'followers_count': 83613, 'friends_count': 724, 'listed_count': 1856, 'created_at': 'Sun Nov 23 12:36:42 +0000 2008', 'favourites_count': 5320, 'utc_offset': None, 'time_zone': None, 'geo_enabled': False, 'verified': False, 'statuses_count': 18354, 'lang': None, 'contributors_enabled': False, 'is_translator': False, 'is_translation_enabled': False, 'profile_background_color': 'FFCC4D', 'profile_background_image_url': 'http://abs.twimg.com/images/themes/theme1/bg.png', 'profile_background_image_url_https': 'https://abs.twimg.com/images/themes/theme1/bg.png', 'profile_background_tile': False, 'profile_image_url': 'http://pbs.twimg.com/profile_images/992434418152288258/KggFj5py_normal.jpg', 'profile_image_url_https': 'https://pbs.twimg.com/profile_images/992434418152288258/KggFj5py_normal.jpg', 'profile_banner_url': 'https://pbs.twimg.com/profile_banners/17572133/1511280990', 'profile_link_color': '3B94D9', 'profile_sidebar_border_color': '2A3A5A', 'profile_sidebar_fill_color': 'BFE2FF', 'profile_text_color': 'A97070', 'profile_use_background_image': False, 'has_extended_profile': False, 'default_profile': False, 'default_profile_image': False, 'following': False, 'follow_request_sent': False, 'notifications': False, 'translator_type': 'none'}, 'geo': None, 'coordinates': None, 'place': None, 'contributors': None, 'is_quote_status': False, 'retweet_count': 0, 'favorite_count': 10, 'favorited': False, 'retweeted': False, 'possibly_sensitive': False, 'lang': 'en'}, created_at=datetime.datetime(2021, 3, 6, 19, 26, 31), id=1368281858631405574, id_str='1368281858631405574', full_text='His Holiness the Dalai Lama receiving the first dose of COVID-19 vaccine at Zonal Hospital, Dharamshala, H.P., India on March 6, 2021.\\n\\nhttps://t.co/dvz3bHCfeq https://t.co/uc9U2pOiDp', truncated=False, display_text_range=[0, 159], entities={'hashtags': [], 'symbols': [], 'user_mentions': [], 'urls': [{'url': 'https://t.co/dvz3bHCfeq', 'expanded_url': 'https://buff.ly/3bmXLTt', 'display_url': 'buff.ly/3bmXLTt', 'indices': [136, 159]}], 'media': [{'id': 1368281856957939713, 'id_str': '1368281856957939713', 'indices': [160, 183], 'media_url': 'http://pbs.twimg.com/media/Ev0dGXSXAAEpFHz.jpg', 'media_url_https': 'https://pbs.twimg.com/media/Ev0dGXSXAAEpFHz.jpg', 'url': 'https://t.co/uc9U2pOiDp', 'display_url': 'pic.twitter.com/uc9U2pOiDp', 'expanded_url': 'https://twitter.com/LionsRoar/status/1368281858631405574/photo/1', 'type': 'photo', 'sizes': {'thumb': {'w': 150, 'h': 150, 'resize': 'crop'}, 'large': {'w': 1280, 'h': 720, 'resize': 'fit'}, 'small': {'w': 680, 'h': 383, 'resize': 'fit'}, 'medium': {'w': 1200, 'h': 675, 'resize': 'fit'}}}]}, extended_entities={'media': [{'id': 1368281856957939713, 'id_str': '1368281856957939713', 'indices': [160, 183], 'media_url': 'http://pbs.twimg.com/media/Ev0dGXSXAAEpFHz.jpg', 'media_url_https': 'https://pbs.twimg.com/media/Ev0dGXSXAAEpFHz.jpg', 'url': 'https://t.co/uc9U2pOiDp', 'display_url': 'pic.twitter.com/uc9U2pOiDp', 'expanded_url': 'https://twitter.com/LionsRoar/status/1368281858631405574/photo/1', 'type': 'photo', 'sizes': {'thumb': {'w': 150, 'h': 150, 'resize': 'crop'}, 'large': {'w': 1280, 'h': 720, 'resize': 'fit'}, 'small': {'w': 680, 'h': 383, 'resize': 'fit'}, 'medium': {'w': 1200, 'h': 675, 'resize': 'fit'}}}]}, metadata={'iso_language_code': 'en', 'result_type': 'recent'}, source='Buffer', source_url='https://buffer.com', in_reply_to_status_id=None, in_reply_to_status_id_str=None, in_reply_to_user_id=None, in_reply_to_user_id_str=None, in_reply_to_screen_name=None, author=User(_api=<tweepy.api.API object at 0x0000021C1B2C9988>, _json={'id': 17572133, 'id_str': '17572133', 'name': \"Lion's Roar\", 'screen_name': 'LionsRoar', 'location': '', 'description': 'The Lion’s Roar Foundation is a mission-driven, reader-supported publisher of Buddhist teachings, news, and perspectives.', 'url': 'https://t.co/JtE50ZISaM', 'entities': {'url': {'urls': [{'url': 'https://t.co/JtE50ZISaM', 'expanded_url': 'https://www.lionsroar.com', 'display_url': 'lionsroar.com', 'indices': [0, 23]}]}, 'description': {'urls': []}}, 'protected': False, 'followers_count': 83613, 'friends_count': 724, 'listed_count': 1856, 'created_at': 'Sun Nov 23 12:36:42 +0000 2008', 'favourites_count': 5320, 'utc_offset': None, 'time_zone': None, 'geo_enabled': False, 'verified': False, 'statuses_count': 18354, 'lang': None, 'contributors_enabled': False, 'is_translator': False, 'is_translation_enabled': False, 'profile_background_color': 'FFCC4D', 'profile_background_image_url': 'http://abs.twimg.com/images/themes/theme1/bg.png', 'profile_background_image_url_https': 'https://abs.twimg.com/images/themes/theme1/bg.png', 'profile_background_tile': False, 'profile_image_url': 'http://pbs.twimg.com/profile_images/992434418152288258/KggFj5py_normal.jpg', 'profile_image_url_https': 'https://pbs.twimg.com/profile_images/992434418152288258/KggFj5py_normal.jpg', 'profile_banner_url': 'https://pbs.twimg.com/profile_banners/17572133/1511280990', 'profile_link_color': '3B94D9', 'profile_sidebar_border_color': '2A3A5A', 'profile_sidebar_fill_color': 'BFE2FF', 'profile_text_color': 'A97070', 'profile_use_background_image': False, 'has_extended_profile': False, 'default_profile': False, 'default_profile_image': False, 'following': False, 'follow_request_sent': False, 'notifications': False, 'translator_type': 'none'}, id=17572133, id_str='17572133', name=\"Lion's Roar\", screen_name='LionsRoar', location='', description='The Lion’s Roar Foundation is a mission-driven, reader-supported publisher of Buddhist teachings, news, and perspectives.', url='https://t.co/JtE50ZISaM', entities={'url': {'urls': [{'url': 'https://t.co/JtE50ZISaM', 'expanded_url': 'https://www.lionsroar.com', 'display_url': 'lionsroar.com', 'indices': [0, 23]}]}, 'description': {'urls': []}}, protected=False, followers_count=83613, friends_count=724, listed_count=1856, created_at=datetime.datetime(2008, 11, 23, 12, 36, 42), favourites_count=5320, utc_offset=None, time_zone=None, geo_enabled=False, verified=False, statuses_count=18354, lang=None, contributors_enabled=False, is_translator=False, is_translation_enabled=False, profile_background_color='FFCC4D', profile_background_image_url='http://abs.twimg.com/images/themes/theme1/bg.png', profile_background_image_url_https='https://abs.twimg.com/images/themes/theme1/bg.png', profile_background_tile=False, profile_image_url='http://pbs.twimg.com/profile_images/992434418152288258/KggFj5py_normal.jpg', profile_image_url_https='https://pbs.twimg.com/profile_images/992434418152288258/KggFj5py_normal.jpg', profile_banner_url='https://pbs.twimg.com/profile_banners/17572133/1511280990', profile_link_color='3B94D9', profile_sidebar_border_color='2A3A5A', profile_sidebar_fill_color='BFE2FF', profile_text_color='A97070', profile_use_background_image=False, has_extended_profile=False, default_profile=False, default_profile_image=False, following=False, follow_request_sent=False, notifications=False, translator_type='none'), user=User(_api=<tweepy.api.API object at 0x0000021C1B2C9988>, _json={'id': 17572133, 'id_str': '17572133', 'name': \"Lion's Roar\", 'screen_name': 'LionsRoar', 'location': '', 'description': 'The Lion’s Roar Foundation is a mission-driven, reader-supported publisher of Buddhist teachings, news, and perspectives.', 'url': 'https://t.co/JtE50ZISaM', 'entities': {'url': {'urls': [{'url': 'https://t.co/JtE50ZISaM', 'expanded_url': 'https://www.lionsroar.com', 'display_url': 'lionsroar.com', 'indices': [0, 23]}]}, 'description': {'urls': []}}, 'protected': False, 'followers_count': 83613, 'friends_count': 724, 'listed_count': 1856, 'created_at': 'Sun Nov 23 12:36:42 +0000 2008', 'favourites_count': 5320, 'utc_offset': None, 'time_zone': None, 'geo_enabled': False, 'verified': False, 'statuses_count': 18354, 'lang': None, 'contributors_enabled': False, 'is_translator': False, 'is_translation_enabled': False, 'profile_background_color': 'FFCC4D', 'profile_background_image_url': 'http://abs.twimg.com/images/themes/theme1/bg.png', 'profile_background_image_url_https': 'https://abs.twimg.com/images/themes/theme1/bg.png', 'profile_background_tile': False, 'profile_image_url': 'http://pbs.twimg.com/profile_images/992434418152288258/KggFj5py_normal.jpg', 'profile_image_url_https': 'https://pbs.twimg.com/profile_images/992434418152288258/KggFj5py_normal.jpg', 'profile_banner_url': 'https://pbs.twimg.com/profile_banners/17572133/1511280990', 'profile_link_color': '3B94D9', 'profile_sidebar_border_color': '2A3A5A', 'profile_sidebar_fill_color': 'BFE2FF', 'profile_text_color': 'A97070', 'profile_use_background_image': False, 'has_extended_profile': False, 'default_profile': False, 'default_profile_image': False, 'following': False, 'follow_request_sent': False, 'notifications': False, 'translator_type': 'none'}, id=17572133, id_str='17572133', name=\"Lion's Roar\", screen_name='LionsRoar', location='', description='The Lion’s Roar Foundation is a mission-driven, reader-supported publisher of Buddhist teachings, news, and perspectives.', url='https://t.co/JtE50ZISaM', entities={'url': {'urls': [{'url': 'https://t.co/JtE50ZISaM', 'expanded_url': 'https://www.lionsroar.com', 'display_url': 'lionsroar.com', 'indices': [0, 23]}]}, 'description': {'urls': []}}, protected=False, followers_count=83613, friends_count=724, listed_count=1856, created_at=datetime.datetime(2008, 11, 23, 12, 36, 42), favourites_count=5320, utc_offset=None, time_zone=None, geo_enabled=False, verified=False, statuses_count=18354, lang=None, contributors_enabled=False, is_translator=False, is_translation_enabled=False, profile_background_color='FFCC4D', profile_background_image_url='http://abs.twimg.com/images/themes/theme1/bg.png', profile_background_image_url_https='https://abs.twimg.com/images/themes/theme1/bg.png', profile_background_tile=False, profile_image_url='http://pbs.twimg.com/profile_images/992434418152288258/KggFj5py_normal.jpg', profile_image_url_https='https://pbs.twimg.com/profile_images/992434418152288258/KggFj5py_normal.jpg', profile_banner_url='https://pbs.twimg.com/profile_banners/17572133/1511280990', profile_link_color='3B94D9', profile_sidebar_border_color='2A3A5A', profile_sidebar_fill_color='BFE2FF', profile_text_color='A97070', profile_use_background_image=False, has_extended_profile=False, default_profile=False, default_profile_image=False, following=False, follow_request_sent=False, notifications=False, translator_type='none'), geo=None, coordinates=None, place=None, contributors=None, is_quote_status=False, retweet_count=0, favorite_count=10, favorited=False, retweeted=False, possibly_sensitive=False, lang='en')\n",
      "==============================\n",
      "Status(_api=<tweepy.api.API object at 0x0000021C1B2C9988>, _json={'created_at': 'Sat Mar 06 19:21:46 +0000 2021', 'id': 1368280666287185921, 'id_str': '1368280666287185921', 'full_text': 'This weekend is off to a great start. My 80 year old mother in law just received her first #COVID vaccine in #Kashmir India. Getting closer to the kids seeing their grandmother, who they lived with for a decade, and haven’t seen in a year. Yay!!', 'truncated': False, 'display_text_range': [0, 245], 'entities': {'hashtags': [{'text': 'COVID', 'indices': [91, 97]}, {'text': 'Kashmir', 'indices': [109, 117]}], 'symbols': [], 'user_mentions': [], 'urls': []}, 'metadata': {'iso_language_code': 'en', 'result_type': 'recent'}, 'source': '<a href=\"http://twitter.com/download/iphone\" rel=\"nofollow\">Twitter for iPhone</a>', 'in_reply_to_status_id': None, 'in_reply_to_status_id_str': None, 'in_reply_to_user_id': None, 'in_reply_to_user_id_str': None, 'in_reply_to_screen_name': None, 'user': {'id': 44589217, 'id_str': '44589217', 'name': 'Katherine Hay', 'screen_name': 'KeHay', 'location': 'Seattle, WA', 'description': 'Dep Director of Gender Equality @ Gates Foundation. Fighting for gender justice with solidarity & action. Feminist, researcher, mom. Tweets my own. she/her', 'url': None, 'entities': {'description': {'urls': []}}, 'protected': False, 'followers_count': 3379, 'friends_count': 1384, 'listed_count': 63, 'created_at': 'Thu Jun 04 10:36:49 +0000 2009', 'favourites_count': 6055, 'utc_offset': None, 'time_zone': None, 'geo_enabled': True, 'verified': False, 'statuses_count': 4465, 'lang': None, 'contributors_enabled': False, 'is_translator': False, 'is_translation_enabled': False, 'profile_background_color': 'F3E5B8', 'profile_background_image_url': 'http://abs.twimg.com/images/themes/theme18/bg.gif', 'profile_background_image_url_https': 'https://abs.twimg.com/images/themes/theme18/bg.gif', 'profile_background_tile': False, 'profile_image_url': 'http://pbs.twimg.com/profile_images/1317154509768986625/WcGmrrQY_normal.jpg', 'profile_image_url_https': 'https://pbs.twimg.com/profile_images/1317154509768986625/WcGmrrQY_normal.jpg', 'profile_banner_url': 'https://pbs.twimg.com/profile_banners/44589217/1528589207', 'profile_link_color': '53AB8D', 'profile_sidebar_border_color': '53AB8D', 'profile_sidebar_fill_color': '291C0D', 'profile_text_color': 'F3E5B8', 'profile_use_background_image': False, 'has_extended_profile': False, 'default_profile': False, 'default_profile_image': False, 'following': False, 'follow_request_sent': False, 'notifications': False, 'translator_type': 'none'}, 'geo': None, 'coordinates': None, 'place': None, 'contributors': None, 'is_quote_status': False, 'retweet_count': 0, 'favorite_count': 4, 'favorited': False, 'retweeted': False, 'lang': 'en'}, created_at=datetime.datetime(2021, 3, 6, 19, 21, 46), id=1368280666287185921, id_str='1368280666287185921', full_text='This weekend is off to a great start. My 80 year old mother in law just received her first #COVID vaccine in #Kashmir India. Getting closer to the kids seeing their grandmother, who they lived with for a decade, and haven’t seen in a year. Yay!!', truncated=False, display_text_range=[0, 245], entities={'hashtags': [{'text': 'COVID', 'indices': [91, 97]}, {'text': 'Kashmir', 'indices': [109, 117]}], 'symbols': [], 'user_mentions': [], 'urls': []}, metadata={'iso_language_code': 'en', 'result_type': 'recent'}, source='Twitter for iPhone', source_url='http://twitter.com/download/iphone', in_reply_to_status_id=None, in_reply_to_status_id_str=None, in_reply_to_user_id=None, in_reply_to_user_id_str=None, in_reply_to_screen_name=None, author=User(_api=<tweepy.api.API object at 0x0000021C1B2C9988>, _json={'id': 44589217, 'id_str': '44589217', 'name': 'Katherine Hay', 'screen_name': 'KeHay', 'location': 'Seattle, WA', 'description': 'Dep Director of Gender Equality @ Gates Foundation. Fighting for gender justice with solidarity & action. Feminist, researcher, mom. Tweets my own. she/her', 'url': None, 'entities': {'description': {'urls': []}}, 'protected': False, 'followers_count': 3379, 'friends_count': 1384, 'listed_count': 63, 'created_at': 'Thu Jun 04 10:36:49 +0000 2009', 'favourites_count': 6055, 'utc_offset': None, 'time_zone': None, 'geo_enabled': True, 'verified': False, 'statuses_count': 4465, 'lang': None, 'contributors_enabled': False, 'is_translator': False, 'is_translation_enabled': False, 'profile_background_color': 'F3E5B8', 'profile_background_image_url': 'http://abs.twimg.com/images/themes/theme18/bg.gif', 'profile_background_image_url_https': 'https://abs.twimg.com/images/themes/theme18/bg.gif', 'profile_background_tile': False, 'profile_image_url': 'http://pbs.twimg.com/profile_images/1317154509768986625/WcGmrrQY_normal.jpg', 'profile_image_url_https': 'https://pbs.twimg.com/profile_images/1317154509768986625/WcGmrrQY_normal.jpg', 'profile_banner_url': 'https://pbs.twimg.com/profile_banners/44589217/1528589207', 'profile_link_color': '53AB8D', 'profile_sidebar_border_color': '53AB8D', 'profile_sidebar_fill_color': '291C0D', 'profile_text_color': 'F3E5B8', 'profile_use_background_image': False, 'has_extended_profile': False, 'default_profile': False, 'default_profile_image': False, 'following': False, 'follow_request_sent': False, 'notifications': False, 'translator_type': 'none'}, id=44589217, id_str='44589217', name='Katherine Hay', screen_name='KeHay', location='Seattle, WA', description='Dep Director of Gender Equality @ Gates Foundation. Fighting for gender justice with solidarity & action. Feminist, researcher, mom. Tweets my own. she/her', url=None, entities={'description': {'urls': []}}, protected=False, followers_count=3379, friends_count=1384, listed_count=63, created_at=datetime.datetime(2009, 6, 4, 10, 36, 49), favourites_count=6055, utc_offset=None, time_zone=None, geo_enabled=True, verified=False, statuses_count=4465, lang=None, contributors_enabled=False, is_translator=False, is_translation_enabled=False, profile_background_color='F3E5B8', profile_background_image_url='http://abs.twimg.com/images/themes/theme18/bg.gif', profile_background_image_url_https='https://abs.twimg.com/images/themes/theme18/bg.gif', profile_background_tile=False, profile_image_url='http://pbs.twimg.com/profile_images/1317154509768986625/WcGmrrQY_normal.jpg', profile_image_url_https='https://pbs.twimg.com/profile_images/1317154509768986625/WcGmrrQY_normal.jpg', profile_banner_url='https://pbs.twimg.com/profile_banners/44589217/1528589207', profile_link_color='53AB8D', profile_sidebar_border_color='53AB8D', profile_sidebar_fill_color='291C0D', profile_text_color='F3E5B8', profile_use_background_image=False, has_extended_profile=False, default_profile=False, default_profile_image=False, following=False, follow_request_sent=False, notifications=False, translator_type='none'), user=User(_api=<tweepy.api.API object at 0x0000021C1B2C9988>, _json={'id': 44589217, 'id_str': '44589217', 'name': 'Katherine Hay', 'screen_name': 'KeHay', 'location': 'Seattle, WA', 'description': 'Dep Director of Gender Equality @ Gates Foundation. Fighting for gender justice with solidarity & action. Feminist, researcher, mom. Tweets my own. she/her', 'url': None, 'entities': {'description': {'urls': []}}, 'protected': False, 'followers_count': 3379, 'friends_count': 1384, 'listed_count': 63, 'created_at': 'Thu Jun 04 10:36:49 +0000 2009', 'favourites_count': 6055, 'utc_offset': None, 'time_zone': None, 'geo_enabled': True, 'verified': False, 'statuses_count': 4465, 'lang': None, 'contributors_enabled': False, 'is_translator': False, 'is_translation_enabled': False, 'profile_background_color': 'F3E5B8', 'profile_background_image_url': 'http://abs.twimg.com/images/themes/theme18/bg.gif', 'profile_background_image_url_https': 'https://abs.twimg.com/images/themes/theme18/bg.gif', 'profile_background_tile': False, 'profile_image_url': 'http://pbs.twimg.com/profile_images/1317154509768986625/WcGmrrQY_normal.jpg', 'profile_image_url_https': 'https://pbs.twimg.com/profile_images/1317154509768986625/WcGmrrQY_normal.jpg', 'profile_banner_url': 'https://pbs.twimg.com/profile_banners/44589217/1528589207', 'profile_link_color': '53AB8D', 'profile_sidebar_border_color': '53AB8D', 'profile_sidebar_fill_color': '291C0D', 'profile_text_color': 'F3E5B8', 'profile_use_background_image': False, 'has_extended_profile': False, 'default_profile': False, 'default_profile_image': False, 'following': False, 'follow_request_sent': False, 'notifications': False, 'translator_type': 'none'}, id=44589217, id_str='44589217', name='Katherine Hay', screen_name='KeHay', location='Seattle, WA', description='Dep Director of Gender Equality @ Gates Foundation. Fighting for gender justice with solidarity & action. Feminist, researcher, mom. Tweets my own. she/her', url=None, entities={'description': {'urls': []}}, protected=False, followers_count=3379, friends_count=1384, listed_count=63, created_at=datetime.datetime(2009, 6, 4, 10, 36, 49), favourites_count=6055, utc_offset=None, time_zone=None, geo_enabled=True, verified=False, statuses_count=4465, lang=None, contributors_enabled=False, is_translator=False, is_translation_enabled=False, profile_background_color='F3E5B8', profile_background_image_url='http://abs.twimg.com/images/themes/theme18/bg.gif', profile_background_image_url_https='https://abs.twimg.com/images/themes/theme18/bg.gif', profile_background_tile=False, profile_image_url='http://pbs.twimg.com/profile_images/1317154509768986625/WcGmrrQY_normal.jpg', profile_image_url_https='https://pbs.twimg.com/profile_images/1317154509768986625/WcGmrrQY_normal.jpg', profile_banner_url='https://pbs.twimg.com/profile_banners/44589217/1528589207', profile_link_color='53AB8D', profile_sidebar_border_color='53AB8D', profile_sidebar_fill_color='291C0D', profile_text_color='F3E5B8', profile_use_background_image=False, has_extended_profile=False, default_profile=False, default_profile_image=False, following=False, follow_request_sent=False, notifications=False, translator_type='none'), geo=None, coordinates=None, place=None, contributors=None, is_quote_status=False, retweet_count=0, favorite_count=4, favorited=False, retweeted=False, lang='en')\n",
      "==============================\n",
      "Status(_api=<tweepy.api.API object at 0x0000021C1B2C9988>, _json={'created_at': 'Sat Mar 06 19:19:08 +0000 2021', 'id': 1368280003591376898, 'id_str': '1368280003591376898', 'full_text': \"@sputnikvaccine @RussianEmbassy Meanwhile, while India's two Pharma Cos manufactures large quantities of the @sputnikvaccine, India hasn't yet given final approval of #SputnikV yet! 🤦\\u200d♂️ \\nhttps://t.co/psg7Mv5BCp\", 'truncated': False, 'display_text_range': [32, 211], 'entities': {'hashtags': [{'text': 'SputnikV', 'indices': [167, 176]}], 'symbols': [], 'user_mentions': [{'screen_name': 'sputnikvaccine', 'name': 'Sputnik V', 'id': 1293113010941296640, 'id_str': '1293113010941296640', 'indices': [0, 15]}, {'screen_name': 'RussianEmbassy', 'name': 'Russian Embassy, UK', 'id': 114718372, 'id_str': '114718372', 'indices': [16, 31]}, {'screen_name': 'sputnikvaccine', 'name': 'Sputnik V', 'id': 1293113010941296640, 'id_str': '1293113010941296640', 'indices': [109, 124]}], 'urls': [{'url': 'https://t.co/psg7Mv5BCp', 'expanded_url': 'https://www.moneycontrol.com/news/business/companies/will-dr-reddys-be-able-to-reap-the-benefit-of-sputnik-v-covid-19-vaccine-6457971.html', 'display_url': 'moneycontrol.com/news/business/…', 'indices': [188, 211]}]}, 'metadata': {'iso_language_code': 'en', 'result_type': 'recent'}, 'source': '<a href=\"https://mobile.twitter.com\" rel=\"nofollow\">Twitter Web App</a>', 'in_reply_to_status_id': 1367815071448072193, 'in_reply_to_status_id_str': '1367815071448072193', 'in_reply_to_user_id': 1293113010941296640, 'in_reply_to_user_id_str': '1293113010941296640', 'in_reply_to_screen_name': 'sputnikvaccine', 'user': {'id': 772368400035278848, 'id_str': '772368400035278848', 'name': 'Seeji Sundarakshan', 'screen_name': 'Sseeji', 'location': 'Mumbai & Kerala.', 'description': 'interest in geopolitics, economics, independent media and people.', 'url': None, 'entities': {'description': {'urls': []}}, 'protected': False, 'followers_count': 607, 'friends_count': 277, 'listed_count': 6, 'created_at': 'Sun Sep 04 09:39:11 +0000 2016', 'favourites_count': 27096, 'utc_offset': None, 'time_zone': None, 'geo_enabled': True, 'verified': False, 'statuses_count': 24650, 'lang': None, 'contributors_enabled': False, 'is_translator': False, 'is_translation_enabled': False, 'profile_background_color': '000000', 'profile_background_image_url': 'http://abs.twimg.com/images/themes/theme1/bg.png', 'profile_background_image_url_https': 'https://abs.twimg.com/images/themes/theme1/bg.png', 'profile_background_tile': False, 'profile_image_url': 'http://pbs.twimg.com/profile_images/1359552685427445761/ameZIkWQ_normal.jpg', 'profile_image_url_https': 'https://pbs.twimg.com/profile_images/1359552685427445761/ameZIkWQ_normal.jpg', 'profile_banner_url': 'https://pbs.twimg.com/profile_banners/772368400035278848/1613469183', 'profile_link_color': '1B95E0', 'profile_sidebar_border_color': '000000', 'profile_sidebar_fill_color': '000000', 'profile_text_color': '000000', 'profile_use_background_image': False, 'has_extended_profile': False, 'default_profile': False, 'default_profile_image': False, 'following': False, 'follow_request_sent': False, 'notifications': False, 'translator_type': 'none'}, 'geo': None, 'coordinates': None, 'place': None, 'contributors': None, 'is_quote_status': False, 'retweet_count': 0, 'favorite_count': 0, 'favorited': False, 'retweeted': False, 'possibly_sensitive': False, 'lang': 'en'}, created_at=datetime.datetime(2021, 3, 6, 19, 19, 8), id=1368280003591376898, id_str='1368280003591376898', full_text=\"@sputnikvaccine @RussianEmbassy Meanwhile, while India's two Pharma Cos manufactures large quantities of the @sputnikvaccine, India hasn't yet given final approval of #SputnikV yet! 🤦\\u200d♂️ \\nhttps://t.co/psg7Mv5BCp\", truncated=False, display_text_range=[32, 211], entities={'hashtags': [{'text': 'SputnikV', 'indices': [167, 176]}], 'symbols': [], 'user_mentions': [{'screen_name': 'sputnikvaccine', 'name': 'Sputnik V', 'id': 1293113010941296640, 'id_str': '1293113010941296640', 'indices': [0, 15]}, {'screen_name': 'RussianEmbassy', 'name': 'Russian Embassy, UK', 'id': 114718372, 'id_str': '114718372', 'indices': [16, 31]}, {'screen_name': 'sputnikvaccine', 'name': 'Sputnik V', 'id': 1293113010941296640, 'id_str': '1293113010941296640', 'indices': [109, 124]}], 'urls': [{'url': 'https://t.co/psg7Mv5BCp', 'expanded_url': 'https://www.moneycontrol.com/news/business/companies/will-dr-reddys-be-able-to-reap-the-benefit-of-sputnik-v-covid-19-vaccine-6457971.html', 'display_url': 'moneycontrol.com/news/business/…', 'indices': [188, 211]}]}, metadata={'iso_language_code': 'en', 'result_type': 'recent'}, source='Twitter Web App', source_url='https://mobile.twitter.com', in_reply_to_status_id=1367815071448072193, in_reply_to_status_id_str='1367815071448072193', in_reply_to_user_id=1293113010941296640, in_reply_to_user_id_str='1293113010941296640', in_reply_to_screen_name='sputnikvaccine', author=User(_api=<tweepy.api.API object at 0x0000021C1B2C9988>, _json={'id': 772368400035278848, 'id_str': '772368400035278848', 'name': 'Seeji Sundarakshan', 'screen_name': 'Sseeji', 'location': 'Mumbai & Kerala.', 'description': 'interest in geopolitics, economics, independent media and people.', 'url': None, 'entities': {'description': {'urls': []}}, 'protected': False, 'followers_count': 607, 'friends_count': 277, 'listed_count': 6, 'created_at': 'Sun Sep 04 09:39:11 +0000 2016', 'favourites_count': 27096, 'utc_offset': None, 'time_zone': None, 'geo_enabled': True, 'verified': False, 'statuses_count': 24650, 'lang': None, 'contributors_enabled': False, 'is_translator': False, 'is_translation_enabled': False, 'profile_background_color': '000000', 'profile_background_image_url': 'http://abs.twimg.com/images/themes/theme1/bg.png', 'profile_background_image_url_https': 'https://abs.twimg.com/images/themes/theme1/bg.png', 'profile_background_tile': False, 'profile_image_url': 'http://pbs.twimg.com/profile_images/1359552685427445761/ameZIkWQ_normal.jpg', 'profile_image_url_https': 'https://pbs.twimg.com/profile_images/1359552685427445761/ameZIkWQ_normal.jpg', 'profile_banner_url': 'https://pbs.twimg.com/profile_banners/772368400035278848/1613469183', 'profile_link_color': '1B95E0', 'profile_sidebar_border_color': '000000', 'profile_sidebar_fill_color': '000000', 'profile_text_color': '000000', 'profile_use_background_image': False, 'has_extended_profile': False, 'default_profile': False, 'default_profile_image': False, 'following': False, 'follow_request_sent': False, 'notifications': False, 'translator_type': 'none'}, id=772368400035278848, id_str='772368400035278848', name='Seeji Sundarakshan', screen_name='Sseeji', location='Mumbai & Kerala.', description='interest in geopolitics, economics, independent media and people.', url=None, entities={'description': {'urls': []}}, protected=False, followers_count=607, friends_count=277, listed_count=6, created_at=datetime.datetime(2016, 9, 4, 9, 39, 11), favourites_count=27096, utc_offset=None, time_zone=None, geo_enabled=True, verified=False, statuses_count=24650, lang=None, contributors_enabled=False, is_translator=False, is_translation_enabled=False, profile_background_color='000000', profile_background_image_url='http://abs.twimg.com/images/themes/theme1/bg.png', profile_background_image_url_https='https://abs.twimg.com/images/themes/theme1/bg.png', profile_background_tile=False, profile_image_url='http://pbs.twimg.com/profile_images/1359552685427445761/ameZIkWQ_normal.jpg', profile_image_url_https='https://pbs.twimg.com/profile_images/1359552685427445761/ameZIkWQ_normal.jpg', profile_banner_url='https://pbs.twimg.com/profile_banners/772368400035278848/1613469183', profile_link_color='1B95E0', profile_sidebar_border_color='000000', profile_sidebar_fill_color='000000', profile_text_color='000000', profile_use_background_image=False, has_extended_profile=False, default_profile=False, default_profile_image=False, following=False, follow_request_sent=False, notifications=False, translator_type='none'), user=User(_api=<tweepy.api.API object at 0x0000021C1B2C9988>, _json={'id': 772368400035278848, 'id_str': '772368400035278848', 'name': 'Seeji Sundarakshan', 'screen_name': 'Sseeji', 'location': 'Mumbai & Kerala.', 'description': 'interest in geopolitics, economics, independent media and people.', 'url': None, 'entities': {'description': {'urls': []}}, 'protected': False, 'followers_count': 607, 'friends_count': 277, 'listed_count': 6, 'created_at': 'Sun Sep 04 09:39:11 +0000 2016', 'favourites_count': 27096, 'utc_offset': None, 'time_zone': None, 'geo_enabled': True, 'verified': False, 'statuses_count': 24650, 'lang': None, 'contributors_enabled': False, 'is_translator': False, 'is_translation_enabled': False, 'profile_background_color': '000000', 'profile_background_image_url': 'http://abs.twimg.com/images/themes/theme1/bg.png', 'profile_background_image_url_https': 'https://abs.twimg.com/images/themes/theme1/bg.png', 'profile_background_tile': False, 'profile_image_url': 'http://pbs.twimg.com/profile_images/1359552685427445761/ameZIkWQ_normal.jpg', 'profile_image_url_https': 'https://pbs.twimg.com/profile_images/1359552685427445761/ameZIkWQ_normal.jpg', 'profile_banner_url': 'https://pbs.twimg.com/profile_banners/772368400035278848/1613469183', 'profile_link_color': '1B95E0', 'profile_sidebar_border_color': '000000', 'profile_sidebar_fill_color': '000000', 'profile_text_color': '000000', 'profile_use_background_image': False, 'has_extended_profile': False, 'default_profile': False, 'default_profile_image': False, 'following': False, 'follow_request_sent': False, 'notifications': False, 'translator_type': 'none'}, id=772368400035278848, id_str='772368400035278848', name='Seeji Sundarakshan', screen_name='Sseeji', location='Mumbai & Kerala.', description='interest in geopolitics, economics, independent media and people.', url=None, entities={'description': {'urls': []}}, protected=False, followers_count=607, friends_count=277, listed_count=6, created_at=datetime.datetime(2016, 9, 4, 9, 39, 11), favourites_count=27096, utc_offset=None, time_zone=None, geo_enabled=True, verified=False, statuses_count=24650, lang=None, contributors_enabled=False, is_translator=False, is_translation_enabled=False, profile_background_color='000000', profile_background_image_url='http://abs.twimg.com/images/themes/theme1/bg.png', profile_background_image_url_https='https://abs.twimg.com/images/themes/theme1/bg.png', profile_background_tile=False, profile_image_url='http://pbs.twimg.com/profile_images/1359552685427445761/ameZIkWQ_normal.jpg', profile_image_url_https='https://pbs.twimg.com/profile_images/1359552685427445761/ameZIkWQ_normal.jpg', profile_banner_url='https://pbs.twimg.com/profile_banners/772368400035278848/1613469183', profile_link_color='1B95E0', profile_sidebar_border_color='000000', profile_sidebar_fill_color='000000', profile_text_color='000000', profile_use_background_image=False, has_extended_profile=False, default_profile=False, default_profile_image=False, following=False, follow_request_sent=False, notifications=False, translator_type='none'), geo=None, coordinates=None, place=None, contributors=None, is_quote_status=False, retweet_count=0, favorite_count=0, favorited=False, retweeted=False, possibly_sensitive=False, lang='en')\n",
      "==============================\n",
      "Status(_api=<tweepy.api.API object at 0x0000021C1B2C9988>, _json={'created_at': 'Sat Mar 06 19:18:54 +0000 2021', 'id': 1368279945135460353, 'id_str': '1368279945135460353', 'full_text': 'Over 2.06 Crore Covid Vaccine Doses Administered In India So Far: Centre | In\\xa0Hindi. https://t.co/5xzCiCfbo0', 'truncated': False, 'display_text_range': [0, 108], 'entities': {'hashtags': [], 'symbols': [], 'user_mentions': [], 'urls': [{'url': 'https://t.co/5xzCiCfbo0', 'expanded_url': 'https://www.hindinews4u.co.in/india/over-2-06-crore-covid-vaccine-doses-administered-in-india-so-far-centre-in-hindi/', 'display_url': 'hindinews4u.co.in/india/over-2-0…', 'indices': [85, 108]}]}, 'metadata': {'iso_language_code': 'en', 'result_type': 'recent'}, 'source': '<a href=\"http://publicize.wp.com/\" rel=\"nofollow\">WordPress.com</a>', 'in_reply_to_status_id': None, 'in_reply_to_status_id_str': None, 'in_reply_to_user_id': None, 'in_reply_to_user_id_str': None, 'in_reply_to_screen_name': None, 'user': {'id': 1274808562200412160, 'id_str': '1274808562200412160', 'name': 'Biswajit Das', 'screen_name': 'Biswaji39516992', 'location': 'India', 'description': 'I am a programmer and a YouTube Gamer.', 'url': 'https://t.co/eoAkDjCJVb', 'entities': {'url': {'urls': [{'url': 'https://t.co/eoAkDjCJVb', 'expanded_url': 'https://www.youtube.com/channel/UCNU6Cx_yKp7G9Yhr5oVMxXg', 'display_url': 'youtube.com/channel/UCNU6C…', 'indices': [0, 23]}]}, 'description': {'urls': []}}, 'protected': False, 'followers_count': 13, 'friends_count': 28, 'listed_count': 0, 'created_at': 'Sun Jun 21 20:57:21 +0000 2020', 'favourites_count': 257, 'utc_offset': None, 'time_zone': None, 'geo_enabled': False, 'verified': False, 'statuses_count': 86866, 'lang': None, 'contributors_enabled': False, 'is_translator': False, 'is_translation_enabled': False, 'profile_background_color': 'F5F8FA', 'profile_background_image_url': None, 'profile_background_image_url_https': None, 'profile_background_tile': False, 'profile_image_url': 'http://pbs.twimg.com/profile_images/1274810227146100736/ofMmMJE-_normal.jpg', 'profile_image_url_https': 'https://pbs.twimg.com/profile_images/1274810227146100736/ofMmMJE-_normal.jpg', 'profile_link_color': '1DA1F2', 'profile_sidebar_border_color': 'C0DEED', 'profile_sidebar_fill_color': 'DDEEF6', 'profile_text_color': '333333', 'profile_use_background_image': True, 'has_extended_profile': True, 'default_profile': True, 'default_profile_image': False, 'following': False, 'follow_request_sent': False, 'notifications': False, 'translator_type': 'none'}, 'geo': None, 'coordinates': None, 'place': None, 'contributors': None, 'is_quote_status': False, 'retweet_count': 0, 'favorite_count': 1, 'favorited': False, 'retweeted': False, 'possibly_sensitive': False, 'lang': 'en'}, created_at=datetime.datetime(2021, 3, 6, 19, 18, 54), id=1368279945135460353, id_str='1368279945135460353', full_text='Over 2.06 Crore Covid Vaccine Doses Administered In India So Far: Centre | In\\xa0Hindi. https://t.co/5xzCiCfbo0', truncated=False, display_text_range=[0, 108], entities={'hashtags': [], 'symbols': [], 'user_mentions': [], 'urls': [{'url': 'https://t.co/5xzCiCfbo0', 'expanded_url': 'https://www.hindinews4u.co.in/india/over-2-06-crore-covid-vaccine-doses-administered-in-india-so-far-centre-in-hindi/', 'display_url': 'hindinews4u.co.in/india/over-2-0…', 'indices': [85, 108]}]}, metadata={'iso_language_code': 'en', 'result_type': 'recent'}, source='WordPress.com', source_url='http://publicize.wp.com/', in_reply_to_status_id=None, in_reply_to_status_id_str=None, in_reply_to_user_id=None, in_reply_to_user_id_str=None, in_reply_to_screen_name=None, author=User(_api=<tweepy.api.API object at 0x0000021C1B2C9988>, _json={'id': 1274808562200412160, 'id_str': '1274808562200412160', 'name': 'Biswajit Das', 'screen_name': 'Biswaji39516992', 'location': 'India', 'description': 'I am a programmer and a YouTube Gamer.', 'url': 'https://t.co/eoAkDjCJVb', 'entities': {'url': {'urls': [{'url': 'https://t.co/eoAkDjCJVb', 'expanded_url': 'https://www.youtube.com/channel/UCNU6Cx_yKp7G9Yhr5oVMxXg', 'display_url': 'youtube.com/channel/UCNU6C…', 'indices': [0, 23]}]}, 'description': {'urls': []}}, 'protected': False, 'followers_count': 13, 'friends_count': 28, 'listed_count': 0, 'created_at': 'Sun Jun 21 20:57:21 +0000 2020', 'favourites_count': 257, 'utc_offset': None, 'time_zone': None, 'geo_enabled': False, 'verified': False, 'statuses_count': 86866, 'lang': None, 'contributors_enabled': False, 'is_translator': False, 'is_translation_enabled': False, 'profile_background_color': 'F5F8FA', 'profile_background_image_url': None, 'profile_background_image_url_https': None, 'profile_background_tile': False, 'profile_image_url': 'http://pbs.twimg.com/profile_images/1274810227146100736/ofMmMJE-_normal.jpg', 'profile_image_url_https': 'https://pbs.twimg.com/profile_images/1274810227146100736/ofMmMJE-_normal.jpg', 'profile_link_color': '1DA1F2', 'profile_sidebar_border_color': 'C0DEED', 'profile_sidebar_fill_color': 'DDEEF6', 'profile_text_color': '333333', 'profile_use_background_image': True, 'has_extended_profile': True, 'default_profile': True, 'default_profile_image': False, 'following': False, 'follow_request_sent': False, 'notifications': False, 'translator_type': 'none'}, id=1274808562200412160, id_str='1274808562200412160', name='Biswajit Das', screen_name='Biswaji39516992', location='India', description='I am a programmer and a YouTube Gamer.', url='https://t.co/eoAkDjCJVb', entities={'url': {'urls': [{'url': 'https://t.co/eoAkDjCJVb', 'expanded_url': 'https://www.youtube.com/channel/UCNU6Cx_yKp7G9Yhr5oVMxXg', 'display_url': 'youtube.com/channel/UCNU6C…', 'indices': [0, 23]}]}, 'description': {'urls': []}}, protected=False, followers_count=13, friends_count=28, listed_count=0, created_at=datetime.datetime(2020, 6, 21, 20, 57, 21), favourites_count=257, utc_offset=None, time_zone=None, geo_enabled=False, verified=False, statuses_count=86866, lang=None, contributors_enabled=False, is_translator=False, is_translation_enabled=False, profile_background_color='F5F8FA', profile_background_image_url=None, profile_background_image_url_https=None, profile_background_tile=False, profile_image_url='http://pbs.twimg.com/profile_images/1274810227146100736/ofMmMJE-_normal.jpg', profile_image_url_https='https://pbs.twimg.com/profile_images/1274810227146100736/ofMmMJE-_normal.jpg', profile_link_color='1DA1F2', profile_sidebar_border_color='C0DEED', profile_sidebar_fill_color='DDEEF6', profile_text_color='333333', profile_use_background_image=True, has_extended_profile=True, default_profile=True, default_profile_image=False, following=False, follow_request_sent=False, notifications=False, translator_type='none'), user=User(_api=<tweepy.api.API object at 0x0000021C1B2C9988>, _json={'id': 1274808562200412160, 'id_str': '1274808562200412160', 'name': 'Biswajit Das', 'screen_name': 'Biswaji39516992', 'location': 'India', 'description': 'I am a programmer and a YouTube Gamer.', 'url': 'https://t.co/eoAkDjCJVb', 'entities': {'url': {'urls': [{'url': 'https://t.co/eoAkDjCJVb', 'expanded_url': 'https://www.youtube.com/channel/UCNU6Cx_yKp7G9Yhr5oVMxXg', 'display_url': 'youtube.com/channel/UCNU6C…', 'indices': [0, 23]}]}, 'description': {'urls': []}}, 'protected': False, 'followers_count': 13, 'friends_count': 28, 'listed_count': 0, 'created_at': 'Sun Jun 21 20:57:21 +0000 2020', 'favourites_count': 257, 'utc_offset': None, 'time_zone': None, 'geo_enabled': False, 'verified': False, 'statuses_count': 86866, 'lang': None, 'contributors_enabled': False, 'is_translator': False, 'is_translation_enabled': False, 'profile_background_color': 'F5F8FA', 'profile_background_image_url': None, 'profile_background_image_url_https': None, 'profile_background_tile': False, 'profile_image_url': 'http://pbs.twimg.com/profile_images/1274810227146100736/ofMmMJE-_normal.jpg', 'profile_image_url_https': 'https://pbs.twimg.com/profile_images/1274810227146100736/ofMmMJE-_normal.jpg', 'profile_link_color': '1DA1F2', 'profile_sidebar_border_color': 'C0DEED', 'profile_sidebar_fill_color': 'DDEEF6', 'profile_text_color': '333333', 'profile_use_background_image': True, 'has_extended_profile': True, 'default_profile': True, 'default_profile_image': False, 'following': False, 'follow_request_sent': False, 'notifications': False, 'translator_type': 'none'}, id=1274808562200412160, id_str='1274808562200412160', name='Biswajit Das', screen_name='Biswaji39516992', location='India', description='I am a programmer and a YouTube Gamer.', url='https://t.co/eoAkDjCJVb', entities={'url': {'urls': [{'url': 'https://t.co/eoAkDjCJVb', 'expanded_url': 'https://www.youtube.com/channel/UCNU6Cx_yKp7G9Yhr5oVMxXg', 'display_url': 'youtube.com/channel/UCNU6C…', 'indices': [0, 23]}]}, 'description': {'urls': []}}, protected=False, followers_count=13, friends_count=28, listed_count=0, created_at=datetime.datetime(2020, 6, 21, 20, 57, 21), favourites_count=257, utc_offset=None, time_zone=None, geo_enabled=False, verified=False, statuses_count=86866, lang=None, contributors_enabled=False, is_translator=False, is_translation_enabled=False, profile_background_color='F5F8FA', profile_background_image_url=None, profile_background_image_url_https=None, profile_background_tile=False, profile_image_url='http://pbs.twimg.com/profile_images/1274810227146100736/ofMmMJE-_normal.jpg', profile_image_url_https='https://pbs.twimg.com/profile_images/1274810227146100736/ofMmMJE-_normal.jpg', profile_link_color='1DA1F2', profile_sidebar_border_color='C0DEED', profile_sidebar_fill_color='DDEEF6', profile_text_color='333333', profile_use_background_image=True, has_extended_profile=True, default_profile=True, default_profile_image=False, following=False, follow_request_sent=False, notifications=False, translator_type='none'), geo=None, coordinates=None, place=None, contributors=None, is_quote_status=False, retweet_count=0, favorite_count=1, favorited=False, retweeted=False, possibly_sensitive=False, lang='en')\n",
      "==============================\n",
      "Status(_api=<tweepy.api.API object at 0x0000021C1B2C9988>, _json={'created_at': 'Sat Mar 06 19:15:00 +0000 2021', 'id': 1368278960702857217, 'id_str': '1368278960702857217', 'full_text': \"'Make optimal use of the available #COVID19 vaccine doses and focus on critical districts', the Health Ministry said\\n\\nhttps://t.co/wD1KKq7Clv\", 'truncated': False, 'display_text_range': [0, 141], 'entities': {'hashtags': [{'text': 'COVID19', 'indices': [35, 43]}], 'symbols': [], 'user_mentions': [], 'urls': [{'url': 'https://t.co/wD1KKq7Clv', 'expanded_url': 'https://english.jagran.com/india/test-track-and-treat-centres-message-to-states-uts-amid-spike-in-covid-cases-10024169', 'display_url': 'english.jagran.com/india/test-tra…', 'indices': [118, 141]}]}, 'metadata': {'iso_language_code': 'en', 'result_type': 'recent'}, 'source': '<a href=\"https://about.twitter.com/products/tweetdeck\" rel=\"nofollow\">TweetDeck</a>', 'in_reply_to_status_id': None, 'in_reply_to_status_id_str': None, 'in_reply_to_user_id': None, 'in_reply_to_user_id_str': None, 'in_reply_to_screen_name': None, 'user': {'id': 231692806, 'id_str': '231692806', 'name': 'Jagran English', 'screen_name': 'JagranEnglish', 'location': 'New Delhi, India', 'description': 'Jagran English the new age Trending News site. Check out https://t.co/UuzBHS8KDs for all latest & top trends across globe.', 'url': 'https://t.co/KNACj4Xbxs', 'entities': {'url': {'urls': [{'url': 'https://t.co/KNACj4Xbxs', 'expanded_url': 'http://english.jagran.com', 'display_url': 'english.jagran.com', 'indices': [0, 23]}]}, 'description': {'urls': [{'url': 'https://t.co/UuzBHS8KDs', 'expanded_url': 'http://english.jagran.com/', 'display_url': 'english.jagran.com', 'indices': [57, 80]}]}}, 'protected': False, 'followers_count': 8515, 'friends_count': 37, 'listed_count': 101, 'created_at': 'Wed Dec 29 06:03:27 +0000 2010', 'favourites_count': 123, 'utc_offset': None, 'time_zone': None, 'geo_enabled': True, 'verified': True, 'statuses_count': 160524, 'lang': None, 'contributors_enabled': False, 'is_translator': False, 'is_translation_enabled': False, 'profile_background_color': 'C0DEED', 'profile_background_image_url': 'http://abs.twimg.com/images/themes/theme1/bg.png', 'profile_background_image_url_https': 'https://abs.twimg.com/images/themes/theme1/bg.png', 'profile_background_tile': False, 'profile_image_url': 'http://pbs.twimg.com/profile_images/791567271328047104/2wcHjE_4_normal.jpg', 'profile_image_url_https': 'https://pbs.twimg.com/profile_images/791567271328047104/2wcHjE_4_normal.jpg', 'profile_banner_url': 'https://pbs.twimg.com/profile_banners/231692806/1613394903', 'profile_link_color': '0084B4', 'profile_sidebar_border_color': 'FFFFFF', 'profile_sidebar_fill_color': 'DDEEF6', 'profile_text_color': '333333', 'profile_use_background_image': True, 'has_extended_profile': True, 'default_profile': False, 'default_profile_image': False, 'following': False, 'follow_request_sent': False, 'notifications': False, 'translator_type': 'none'}, 'geo': None, 'coordinates': None, 'place': None, 'contributors': None, 'is_quote_status': False, 'retweet_count': 0, 'favorite_count': 0, 'favorited': False, 'retweeted': False, 'possibly_sensitive': False, 'lang': 'en'}, created_at=datetime.datetime(2021, 3, 6, 19, 15), id=1368278960702857217, id_str='1368278960702857217', full_text=\"'Make optimal use of the available #COVID19 vaccine doses and focus on critical districts', the Health Ministry said\\n\\nhttps://t.co/wD1KKq7Clv\", truncated=False, display_text_range=[0, 141], entities={'hashtags': [{'text': 'COVID19', 'indices': [35, 43]}], 'symbols': [], 'user_mentions': [], 'urls': [{'url': 'https://t.co/wD1KKq7Clv', 'expanded_url': 'https://english.jagran.com/india/test-track-and-treat-centres-message-to-states-uts-amid-spike-in-covid-cases-10024169', 'display_url': 'english.jagran.com/india/test-tra…', 'indices': [118, 141]}]}, metadata={'iso_language_code': 'en', 'result_type': 'recent'}, source='TweetDeck', source_url='https://about.twitter.com/products/tweetdeck', in_reply_to_status_id=None, in_reply_to_status_id_str=None, in_reply_to_user_id=None, in_reply_to_user_id_str=None, in_reply_to_screen_name=None, author=User(_api=<tweepy.api.API object at 0x0000021C1B2C9988>, _json={'id': 231692806, 'id_str': '231692806', 'name': 'Jagran English', 'screen_name': 'JagranEnglish', 'location': 'New Delhi, India', 'description': 'Jagran English the new age Trending News site. Check out https://t.co/UuzBHS8KDs for all latest & top trends across globe.', 'url': 'https://t.co/KNACj4Xbxs', 'entities': {'url': {'urls': [{'url': 'https://t.co/KNACj4Xbxs', 'expanded_url': 'http://english.jagran.com', 'display_url': 'english.jagran.com', 'indices': [0, 23]}]}, 'description': {'urls': [{'url': 'https://t.co/UuzBHS8KDs', 'expanded_url': 'http://english.jagran.com/', 'display_url': 'english.jagran.com', 'indices': [57, 80]}]}}, 'protected': False, 'followers_count': 8515, 'friends_count': 37, 'listed_count': 101, 'created_at': 'Wed Dec 29 06:03:27 +0000 2010', 'favourites_count': 123, 'utc_offset': None, 'time_zone': None, 'geo_enabled': True, 'verified': True, 'statuses_count': 160524, 'lang': None, 'contributors_enabled': False, 'is_translator': False, 'is_translation_enabled': False, 'profile_background_color': 'C0DEED', 'profile_background_image_url': 'http://abs.twimg.com/images/themes/theme1/bg.png', 'profile_background_image_url_https': 'https://abs.twimg.com/images/themes/theme1/bg.png', 'profile_background_tile': False, 'profile_image_url': 'http://pbs.twimg.com/profile_images/791567271328047104/2wcHjE_4_normal.jpg', 'profile_image_url_https': 'https://pbs.twimg.com/profile_images/791567271328047104/2wcHjE_4_normal.jpg', 'profile_banner_url': 'https://pbs.twimg.com/profile_banners/231692806/1613394903', 'profile_link_color': '0084B4', 'profile_sidebar_border_color': 'FFFFFF', 'profile_sidebar_fill_color': 'DDEEF6', 'profile_text_color': '333333', 'profile_use_background_image': True, 'has_extended_profile': True, 'default_profile': False, 'default_profile_image': False, 'following': False, 'follow_request_sent': False, 'notifications': False, 'translator_type': 'none'}, id=231692806, id_str='231692806', name='Jagran English', screen_name='JagranEnglish', location='New Delhi, India', description='Jagran English the new age Trending News site. Check out https://t.co/UuzBHS8KDs for all latest & top trends across globe.', url='https://t.co/KNACj4Xbxs', entities={'url': {'urls': [{'url': 'https://t.co/KNACj4Xbxs', 'expanded_url': 'http://english.jagran.com', 'display_url': 'english.jagran.com', 'indices': [0, 23]}]}, 'description': {'urls': [{'url': 'https://t.co/UuzBHS8KDs', 'expanded_url': 'http://english.jagran.com/', 'display_url': 'english.jagran.com', 'indices': [57, 80]}]}}, protected=False, followers_count=8515, friends_count=37, listed_count=101, created_at=datetime.datetime(2010, 12, 29, 6, 3, 27), favourites_count=123, utc_offset=None, time_zone=None, geo_enabled=True, verified=True, statuses_count=160524, lang=None, contributors_enabled=False, is_translator=False, is_translation_enabled=False, profile_background_color='C0DEED', profile_background_image_url='http://abs.twimg.com/images/themes/theme1/bg.png', profile_background_image_url_https='https://abs.twimg.com/images/themes/theme1/bg.png', profile_background_tile=False, profile_image_url='http://pbs.twimg.com/profile_images/791567271328047104/2wcHjE_4_normal.jpg', profile_image_url_https='https://pbs.twimg.com/profile_images/791567271328047104/2wcHjE_4_normal.jpg', profile_banner_url='https://pbs.twimg.com/profile_banners/231692806/1613394903', profile_link_color='0084B4', profile_sidebar_border_color='FFFFFF', profile_sidebar_fill_color='DDEEF6', profile_text_color='333333', profile_use_background_image=True, has_extended_profile=True, default_profile=False, default_profile_image=False, following=False, follow_request_sent=False, notifications=False, translator_type='none'), user=User(_api=<tweepy.api.API object at 0x0000021C1B2C9988>, _json={'id': 231692806, 'id_str': '231692806', 'name': 'Jagran English', 'screen_name': 'JagranEnglish', 'location': 'New Delhi, India', 'description': 'Jagran English the new age Trending News site. Check out https://t.co/UuzBHS8KDs for all latest & top trends across globe.', 'url': 'https://t.co/KNACj4Xbxs', 'entities': {'url': {'urls': [{'url': 'https://t.co/KNACj4Xbxs', 'expanded_url': 'http://english.jagran.com', 'display_url': 'english.jagran.com', 'indices': [0, 23]}]}, 'description': {'urls': [{'url': 'https://t.co/UuzBHS8KDs', 'expanded_url': 'http://english.jagran.com/', 'display_url': 'english.jagran.com', 'indices': [57, 80]}]}}, 'protected': False, 'followers_count': 8515, 'friends_count': 37, 'listed_count': 101, 'created_at': 'Wed Dec 29 06:03:27 +0000 2010', 'favourites_count': 123, 'utc_offset': None, 'time_zone': None, 'geo_enabled': True, 'verified': True, 'statuses_count': 160524, 'lang': None, 'contributors_enabled': False, 'is_translator': False, 'is_translation_enabled': False, 'profile_background_color': 'C0DEED', 'profile_background_image_url': 'http://abs.twimg.com/images/themes/theme1/bg.png', 'profile_background_image_url_https': 'https://abs.twimg.com/images/themes/theme1/bg.png', 'profile_background_tile': False, 'profile_image_url': 'http://pbs.twimg.com/profile_images/791567271328047104/2wcHjE_4_normal.jpg', 'profile_image_url_https': 'https://pbs.twimg.com/profile_images/791567271328047104/2wcHjE_4_normal.jpg', 'profile_banner_url': 'https://pbs.twimg.com/profile_banners/231692806/1613394903', 'profile_link_color': '0084B4', 'profile_sidebar_border_color': 'FFFFFF', 'profile_sidebar_fill_color': 'DDEEF6', 'profile_text_color': '333333', 'profile_use_background_image': True, 'has_extended_profile': True, 'default_profile': False, 'default_profile_image': False, 'following': False, 'follow_request_sent': False, 'notifications': False, 'translator_type': 'none'}, id=231692806, id_str='231692806', name='Jagran English', screen_name='JagranEnglish', location='New Delhi, India', description='Jagran English the new age Trending News site. Check out https://t.co/UuzBHS8KDs for all latest & top trends across globe.', url='https://t.co/KNACj4Xbxs', entities={'url': {'urls': [{'url': 'https://t.co/KNACj4Xbxs', 'expanded_url': 'http://english.jagran.com', 'display_url': 'english.jagran.com', 'indices': [0, 23]}]}, 'description': {'urls': [{'url': 'https://t.co/UuzBHS8KDs', 'expanded_url': 'http://english.jagran.com/', 'display_url': 'english.jagran.com', 'indices': [57, 80]}]}}, protected=False, followers_count=8515, friends_count=37, listed_count=101, created_at=datetime.datetime(2010, 12, 29, 6, 3, 27), favourites_count=123, utc_offset=None, time_zone=None, geo_enabled=True, verified=True, statuses_count=160524, lang=None, contributors_enabled=False, is_translator=False, is_translation_enabled=False, profile_background_color='C0DEED', profile_background_image_url='http://abs.twimg.com/images/themes/theme1/bg.png', profile_background_image_url_https='https://abs.twimg.com/images/themes/theme1/bg.png', profile_background_tile=False, profile_image_url='http://pbs.twimg.com/profile_images/791567271328047104/2wcHjE_4_normal.jpg', profile_image_url_https='https://pbs.twimg.com/profile_images/791567271328047104/2wcHjE_4_normal.jpg', profile_banner_url='https://pbs.twimg.com/profile_banners/231692806/1613394903', profile_link_color='0084B4', profile_sidebar_border_color='FFFFFF', profile_sidebar_fill_color='DDEEF6', profile_text_color='333333', profile_use_background_image=True, has_extended_profile=True, default_profile=False, default_profile_image=False, following=False, follow_request_sent=False, notifications=False, translator_type='none'), geo=None, coordinates=None, place=None, contributors=None, is_quote_status=False, retweet_count=0, favorite_count=0, favorited=False, retweeted=False, possibly_sensitive=False, lang='en')\n",
      "==============================\n",
      "Status(_api=<tweepy.api.API object at 0x0000021C1B2C9988>, _json={'created_at': 'Sat Mar 06 19:07:19 +0000 2021', 'id': 1368277027099381762, 'id_str': '1368277027099381762', 'full_text': 'Why India should roll out Covid-19 vaccine in the open market and ramp up its commercial\\xa0export https://t.co/CE0mFkHgJT', 'truncated': False, 'display_text_range': [0, 119], 'entities': {'hashtags': [], 'symbols': [], 'user_mentions': [], 'urls': [{'url': 'https://t.co/CE0mFkHgJT', 'expanded_url': 'https://asiapost.live/why-india-should-roll-out-covid-19-vaccine-in-the-open-market-and-ramp-up-its-commercial-export/', 'display_url': 'asiapost.live/why-india-shou…', 'indices': [96, 119]}]}, 'metadata': {'iso_language_code': 'en', 'result_type': 'recent'}, 'source': '<a href=\"http://publicize.wp.com/\" rel=\"nofollow\">WordPress.com</a>', 'in_reply_to_status_id': None, 'in_reply_to_status_id_str': None, 'in_reply_to_user_id': None, 'in_reply_to_user_id_str': None, 'in_reply_to_screen_name': None, 'user': {'id': 1354832865247244292, 'id_str': '1354832865247244292', 'name': 'Asia Post', 'screen_name': 'AsiaPost3', 'location': '', 'description': \"Get the latest news and follow the coverage of breaking news, local news, national, politics, and more from the Asia's top trusted sources.\", 'url': None, 'entities': {'description': {'urls': []}}, 'protected': False, 'followers_count': 90, 'friends_count': 0, 'listed_count': 0, 'created_at': 'Thu Jan 28 16:45:09 +0000 2021', 'favourites_count': 0, 'utc_offset': None, 'time_zone': None, 'geo_enabled': False, 'verified': False, 'statuses_count': 5166, 'lang': None, 'contributors_enabled': False, 'is_translator': False, 'is_translation_enabled': False, 'profile_background_color': 'F5F8FA', 'profile_background_image_url': None, 'profile_background_image_url_https': None, 'profile_background_tile': False, 'profile_image_url': 'http://pbs.twimg.com/profile_images/1354833045354897410/0fYIid9__normal.jpg', 'profile_image_url_https': 'https://pbs.twimg.com/profile_images/1354833045354897410/0fYIid9__normal.jpg', 'profile_banner_url': 'https://pbs.twimg.com/profile_banners/1354832865247244292/1611852423', 'profile_link_color': '1DA1F2', 'profile_sidebar_border_color': 'C0DEED', 'profile_sidebar_fill_color': 'DDEEF6', 'profile_text_color': '333333', 'profile_use_background_image': True, 'has_extended_profile': True, 'default_profile': True, 'default_profile_image': False, 'following': False, 'follow_request_sent': False, 'notifications': False, 'translator_type': 'none'}, 'geo': None, 'coordinates': None, 'place': None, 'contributors': None, 'is_quote_status': False, 'retweet_count': 0, 'favorite_count': 0, 'favorited': False, 'retweeted': False, 'possibly_sensitive': False, 'lang': 'en'}, created_at=datetime.datetime(2021, 3, 6, 19, 7, 19), id=1368277027099381762, id_str='1368277027099381762', full_text='Why India should roll out Covid-19 vaccine in the open market and ramp up its commercial\\xa0export https://t.co/CE0mFkHgJT', truncated=False, display_text_range=[0, 119], entities={'hashtags': [], 'symbols': [], 'user_mentions': [], 'urls': [{'url': 'https://t.co/CE0mFkHgJT', 'expanded_url': 'https://asiapost.live/why-india-should-roll-out-covid-19-vaccine-in-the-open-market-and-ramp-up-its-commercial-export/', 'display_url': 'asiapost.live/why-india-shou…', 'indices': [96, 119]}]}, metadata={'iso_language_code': 'en', 'result_type': 'recent'}, source='WordPress.com', source_url='http://publicize.wp.com/', in_reply_to_status_id=None, in_reply_to_status_id_str=None, in_reply_to_user_id=None, in_reply_to_user_id_str=None, in_reply_to_screen_name=None, author=User(_api=<tweepy.api.API object at 0x0000021C1B2C9988>, _json={'id': 1354832865247244292, 'id_str': '1354832865247244292', 'name': 'Asia Post', 'screen_name': 'AsiaPost3', 'location': '', 'description': \"Get the latest news and follow the coverage of breaking news, local news, national, politics, and more from the Asia's top trusted sources.\", 'url': None, 'entities': {'description': {'urls': []}}, 'protected': False, 'followers_count': 90, 'friends_count': 0, 'listed_count': 0, 'created_at': 'Thu Jan 28 16:45:09 +0000 2021', 'favourites_count': 0, 'utc_offset': None, 'time_zone': None, 'geo_enabled': False, 'verified': False, 'statuses_count': 5166, 'lang': None, 'contributors_enabled': False, 'is_translator': False, 'is_translation_enabled': False, 'profile_background_color': 'F5F8FA', 'profile_background_image_url': None, 'profile_background_image_url_https': None, 'profile_background_tile': False, 'profile_image_url': 'http://pbs.twimg.com/profile_images/1354833045354897410/0fYIid9__normal.jpg', 'profile_image_url_https': 'https://pbs.twimg.com/profile_images/1354833045354897410/0fYIid9__normal.jpg', 'profile_banner_url': 'https://pbs.twimg.com/profile_banners/1354832865247244292/1611852423', 'profile_link_color': '1DA1F2', 'profile_sidebar_border_color': 'C0DEED', 'profile_sidebar_fill_color': 'DDEEF6', 'profile_text_color': '333333', 'profile_use_background_image': True, 'has_extended_profile': True, 'default_profile': True, 'default_profile_image': False, 'following': False, 'follow_request_sent': False, 'notifications': False, 'translator_type': 'none'}, id=1354832865247244292, id_str='1354832865247244292', name='Asia Post', screen_name='AsiaPost3', location='', description=\"Get the latest news and follow the coverage of breaking news, local news, national, politics, and more from the Asia's top trusted sources.\", url=None, entities={'description': {'urls': []}}, protected=False, followers_count=90, friends_count=0, listed_count=0, created_at=datetime.datetime(2021, 1, 28, 16, 45, 9), favourites_count=0, utc_offset=None, time_zone=None, geo_enabled=False, verified=False, statuses_count=5166, lang=None, contributors_enabled=False, is_translator=False, is_translation_enabled=False, profile_background_color='F5F8FA', profile_background_image_url=None, profile_background_image_url_https=None, profile_background_tile=False, profile_image_url='http://pbs.twimg.com/profile_images/1354833045354897410/0fYIid9__normal.jpg', profile_image_url_https='https://pbs.twimg.com/profile_images/1354833045354897410/0fYIid9__normal.jpg', profile_banner_url='https://pbs.twimg.com/profile_banners/1354832865247244292/1611852423', profile_link_color='1DA1F2', profile_sidebar_border_color='C0DEED', profile_sidebar_fill_color='DDEEF6', profile_text_color='333333', profile_use_background_image=True, has_extended_profile=True, default_profile=True, default_profile_image=False, following=False, follow_request_sent=False, notifications=False, translator_type='none'), user=User(_api=<tweepy.api.API object at 0x0000021C1B2C9988>, _json={'id': 1354832865247244292, 'id_str': '1354832865247244292', 'name': 'Asia Post', 'screen_name': 'AsiaPost3', 'location': '', 'description': \"Get the latest news and follow the coverage of breaking news, local news, national, politics, and more from the Asia's top trusted sources.\", 'url': None, 'entities': {'description': {'urls': []}}, 'protected': False, 'followers_count': 90, 'friends_count': 0, 'listed_count': 0, 'created_at': 'Thu Jan 28 16:45:09 +0000 2021', 'favourites_count': 0, 'utc_offset': None, 'time_zone': None, 'geo_enabled': False, 'verified': False, 'statuses_count': 5166, 'lang': None, 'contributors_enabled': False, 'is_translator': False, 'is_translation_enabled': False, 'profile_background_color': 'F5F8FA', 'profile_background_image_url': None, 'profile_background_image_url_https': None, 'profile_background_tile': False, 'profile_image_url': 'http://pbs.twimg.com/profile_images/1354833045354897410/0fYIid9__normal.jpg', 'profile_image_url_https': 'https://pbs.twimg.com/profile_images/1354833045354897410/0fYIid9__normal.jpg', 'profile_banner_url': 'https://pbs.twimg.com/profile_banners/1354832865247244292/1611852423', 'profile_link_color': '1DA1F2', 'profile_sidebar_border_color': 'C0DEED', 'profile_sidebar_fill_color': 'DDEEF6', 'profile_text_color': '333333', 'profile_use_background_image': True, 'has_extended_profile': True, 'default_profile': True, 'default_profile_image': False, 'following': False, 'follow_request_sent': False, 'notifications': False, 'translator_type': 'none'}, id=1354832865247244292, id_str='1354832865247244292', name='Asia Post', screen_name='AsiaPost3', location='', description=\"Get the latest news and follow the coverage of breaking news, local news, national, politics, and more from the Asia's top trusted sources.\", url=None, entities={'description': {'urls': []}}, protected=False, followers_count=90, friends_count=0, listed_count=0, created_at=datetime.datetime(2021, 1, 28, 16, 45, 9), favourites_count=0, utc_offset=None, time_zone=None, geo_enabled=False, verified=False, statuses_count=5166, lang=None, contributors_enabled=False, is_translator=False, is_translation_enabled=False, profile_background_color='F5F8FA', profile_background_image_url=None, profile_background_image_url_https=None, profile_background_tile=False, profile_image_url='http://pbs.twimg.com/profile_images/1354833045354897410/0fYIid9__normal.jpg', profile_image_url_https='https://pbs.twimg.com/profile_images/1354833045354897410/0fYIid9__normal.jpg', profile_banner_url='https://pbs.twimg.com/profile_banners/1354832865247244292/1611852423', profile_link_color='1DA1F2', profile_sidebar_border_color='C0DEED', profile_sidebar_fill_color='DDEEF6', profile_text_color='333333', profile_use_background_image=True, has_extended_profile=True, default_profile=True, default_profile_image=False, following=False, follow_request_sent=False, notifications=False, translator_type='none'), geo=None, coordinates=None, place=None, contributors=None, is_quote_status=False, retweet_count=0, favorite_count=0, favorited=False, retweeted=False, possibly_sensitive=False, lang='en')\n",
      "==============================\n",
      "Status(_api=<tweepy.api.API object at 0x0000021C1B2C9988>, _json={'created_at': 'Sat Mar 06 19:00:29 +0000 2021', 'id': 1368275309238177793, 'id_str': '1368275309238177793', 'full_text': 'African, Caribbean nations support India at WTO on COVID-19 vaccine supplies\\nhttps://t.co/EmsRpMMlrQ\\n\\n#BrigadeCholo \\n#PoribortonerBrigade https://t.co/UOcd1sB0Ai', 'truncated': False, 'display_text_range': [0, 137], 'entities': {'hashtags': [{'text': 'BrigadeCholo', 'indices': [102, 115]}, {'text': 'PoribortonerBrigade', 'indices': [117, 137]}], 'symbols': [], 'user_mentions': [], 'urls': [{'url': 'https://t.co/EmsRpMMlrQ', 'expanded_url': 'https://www.thehindu.com/news/international/african-caribbean-nations-support-india-at-wto-on-covid-19-vaccine-supplies/article33988670.ece', 'display_url': 'thehindu.com/news/internati…', 'indices': [77, 100]}], 'media': [{'id': 1368275305928871936, 'id_str': '1368275305928871936', 'indices': [138, 161], 'media_url': 'http://pbs.twimg.com/media/Ev0XJCzUUAAroxm.jpg', 'media_url_https': 'https://pbs.twimg.com/media/Ev0XJCzUUAAroxm.jpg', 'url': 'https://t.co/UOcd1sB0Ai', 'display_url': 'pic.twitter.com/UOcd1sB0Ai', 'expanded_url': 'https://twitter.com/jaiprakashshah2/status/1368275309238177793/photo/1', 'type': 'photo', 'sizes': {'thumb': {'w': 150, 'h': 150, 'resize': 'crop'}, 'medium': {'w': 680, 'h': 1198, 'resize': 'fit'}, 'large': {'w': 680, 'h': 1198, 'resize': 'fit'}, 'small': {'w': 386, 'h': 680, 'resize': 'fit'}}}]}, 'extended_entities': {'media': [{'id': 1368275305928871936, 'id_str': '1368275305928871936', 'indices': [138, 161], 'media_url': 'http://pbs.twimg.com/media/Ev0XJCzUUAAroxm.jpg', 'media_url_https': 'https://pbs.twimg.com/media/Ev0XJCzUUAAroxm.jpg', 'url': 'https://t.co/UOcd1sB0Ai', 'display_url': 'pic.twitter.com/UOcd1sB0Ai', 'expanded_url': 'https://twitter.com/jaiprakashshah2/status/1368275309238177793/photo/1', 'type': 'photo', 'sizes': {'thumb': {'w': 150, 'h': 150, 'resize': 'crop'}, 'medium': {'w': 680, 'h': 1198, 'resize': 'fit'}, 'large': {'w': 680, 'h': 1198, 'resize': 'fit'}, 'small': {'w': 386, 'h': 680, 'resize': 'fit'}}}]}, 'metadata': {'iso_language_code': 'en', 'result_type': 'recent'}, 'source': '<a href=\"http://twitter.com/download/android\" rel=\"nofollow\">Twitter for Android</a>', 'in_reply_to_status_id': None, 'in_reply_to_status_id_str': None, 'in_reply_to_user_id': None, 'in_reply_to_user_id_str': None, 'in_reply_to_screen_name': None, 'user': {'id': 2481459637, 'id_str': '2481459637', 'name': 'Jai Prakash Shah', 'screen_name': 'jaiprakashshah2', 'location': 'Bharat-Bihar-Jharkhand & W.B ', 'description': 'IndiaFirst,Social Activists,Love Music N Politics Followed By PM @narendramodi Ji HM @AmitShah Ji @PiyushGoyal Ji Blocked by Jehadi Di\\nॐ \\nhttps://t.co/74pFDOkGD3', 'url': None, 'entities': {'description': {'urls': [{'url': 'https://t.co/74pFDOkGD3', 'expanded_url': 'http://narendramodi.in', 'display_url': 'narendramodi.in', 'indices': [138, 161]}]}}, 'protected': False, 'followers_count': 30500, 'friends_count': 572, 'listed_count': 198, 'created_at': 'Wed May 07 05:26:42 +0000 2014', 'favourites_count': 156372, 'utc_offset': None, 'time_zone': None, 'geo_enabled': True, 'verified': False, 'statuses_count': 214842, 'lang': None, 'contributors_enabled': False, 'is_translator': False, 'is_translation_enabled': False, 'profile_background_color': 'C0DEED', 'profile_background_image_url': 'http://abs.twimg.com/images/themes/theme1/bg.png', 'profile_background_image_url_https': 'https://abs.twimg.com/images/themes/theme1/bg.png', 'profile_background_tile': False, 'profile_image_url': 'http://pbs.twimg.com/profile_images/1308295402269990912/ePK9UCRx_normal.jpg', 'profile_image_url_https': 'https://pbs.twimg.com/profile_images/1308295402269990912/ePK9UCRx_normal.jpg', 'profile_banner_url': 'https://pbs.twimg.com/profile_banners/2481459637/1552817986', 'profile_link_color': '1DA1F2', 'profile_sidebar_border_color': 'C0DEED', 'profile_sidebar_fill_color': 'DDEEF6', 'profile_text_color': '333333', 'profile_use_background_image': True, 'has_extended_profile': True, 'default_profile': True, 'default_profile_image': False, 'following': False, 'follow_request_sent': False, 'notifications': False, 'translator_type': 'none'}, 'geo': None, 'coordinates': None, 'place': None, 'contributors': None, 'is_quote_status': False, 'retweet_count': 1, 'favorite_count': 1, 'favorited': False, 'retweeted': False, 'possibly_sensitive': False, 'lang': 'en'}, created_at=datetime.datetime(2021, 3, 6, 19, 0, 29), id=1368275309238177793, id_str='1368275309238177793', full_text='African, Caribbean nations support India at WTO on COVID-19 vaccine supplies\\nhttps://t.co/EmsRpMMlrQ\\n\\n#BrigadeCholo \\n#PoribortonerBrigade https://t.co/UOcd1sB0Ai', truncated=False, display_text_range=[0, 137], entities={'hashtags': [{'text': 'BrigadeCholo', 'indices': [102, 115]}, {'text': 'PoribortonerBrigade', 'indices': [117, 137]}], 'symbols': [], 'user_mentions': [], 'urls': [{'url': 'https://t.co/EmsRpMMlrQ', 'expanded_url': 'https://www.thehindu.com/news/international/african-caribbean-nations-support-india-at-wto-on-covid-19-vaccine-supplies/article33988670.ece', 'display_url': 'thehindu.com/news/internati…', 'indices': [77, 100]}], 'media': [{'id': 1368275305928871936, 'id_str': '1368275305928871936', 'indices': [138, 161], 'media_url': 'http://pbs.twimg.com/media/Ev0XJCzUUAAroxm.jpg', 'media_url_https': 'https://pbs.twimg.com/media/Ev0XJCzUUAAroxm.jpg', 'url': 'https://t.co/UOcd1sB0Ai', 'display_url': 'pic.twitter.com/UOcd1sB0Ai', 'expanded_url': 'https://twitter.com/jaiprakashshah2/status/1368275309238177793/photo/1', 'type': 'photo', 'sizes': {'thumb': {'w': 150, 'h': 150, 'resize': 'crop'}, 'medium': {'w': 680, 'h': 1198, 'resize': 'fit'}, 'large': {'w': 680, 'h': 1198, 'resize': 'fit'}, 'small': {'w': 386, 'h': 680, 'resize': 'fit'}}}]}, extended_entities={'media': [{'id': 1368275305928871936, 'id_str': '1368275305928871936', 'indices': [138, 161], 'media_url': 'http://pbs.twimg.com/media/Ev0XJCzUUAAroxm.jpg', 'media_url_https': 'https://pbs.twimg.com/media/Ev0XJCzUUAAroxm.jpg', 'url': 'https://t.co/UOcd1sB0Ai', 'display_url': 'pic.twitter.com/UOcd1sB0Ai', 'expanded_url': 'https://twitter.com/jaiprakashshah2/status/1368275309238177793/photo/1', 'type': 'photo', 'sizes': {'thumb': {'w': 150, 'h': 150, 'resize': 'crop'}, 'medium': {'w': 680, 'h': 1198, 'resize': 'fit'}, 'large': {'w': 680, 'h': 1198, 'resize': 'fit'}, 'small': {'w': 386, 'h': 680, 'resize': 'fit'}}}]}, metadata={'iso_language_code': 'en', 'result_type': 'recent'}, source='Twitter for Android', source_url='http://twitter.com/download/android', in_reply_to_status_id=None, in_reply_to_status_id_str=None, in_reply_to_user_id=None, in_reply_to_user_id_str=None, in_reply_to_screen_name=None, author=User(_api=<tweepy.api.API object at 0x0000021C1B2C9988>, _json={'id': 2481459637, 'id_str': '2481459637', 'name': 'Jai Prakash Shah', 'screen_name': 'jaiprakashshah2', 'location': 'Bharat-Bihar-Jharkhand & W.B ', 'description': 'IndiaFirst,Social Activists,Love Music N Politics Followed By PM @narendramodi Ji HM @AmitShah Ji @PiyushGoyal Ji Blocked by Jehadi Di\\nॐ \\nhttps://t.co/74pFDOkGD3', 'url': None, 'entities': {'description': {'urls': [{'url': 'https://t.co/74pFDOkGD3', 'expanded_url': 'http://narendramodi.in', 'display_url': 'narendramodi.in', 'indices': [138, 161]}]}}, 'protected': False, 'followers_count': 30500, 'friends_count': 572, 'listed_count': 198, 'created_at': 'Wed May 07 05:26:42 +0000 2014', 'favourites_count': 156372, 'utc_offset': None, 'time_zone': None, 'geo_enabled': True, 'verified': False, 'statuses_count': 214842, 'lang': None, 'contributors_enabled': False, 'is_translator': False, 'is_translation_enabled': False, 'profile_background_color': 'C0DEED', 'profile_background_image_url': 'http://abs.twimg.com/images/themes/theme1/bg.png', 'profile_background_image_url_https': 'https://abs.twimg.com/images/themes/theme1/bg.png', 'profile_background_tile': False, 'profile_image_url': 'http://pbs.twimg.com/profile_images/1308295402269990912/ePK9UCRx_normal.jpg', 'profile_image_url_https': 'https://pbs.twimg.com/profile_images/1308295402269990912/ePK9UCRx_normal.jpg', 'profile_banner_url': 'https://pbs.twimg.com/profile_banners/2481459637/1552817986', 'profile_link_color': '1DA1F2', 'profile_sidebar_border_color': 'C0DEED', 'profile_sidebar_fill_color': 'DDEEF6', 'profile_text_color': '333333', 'profile_use_background_image': True, 'has_extended_profile': True, 'default_profile': True, 'default_profile_image': False, 'following': False, 'follow_request_sent': False, 'notifications': False, 'translator_type': 'none'}, id=2481459637, id_str='2481459637', name='Jai Prakash Shah', screen_name='jaiprakashshah2', location='Bharat-Bihar-Jharkhand & W.B ', description='IndiaFirst,Social Activists,Love Music N Politics Followed By PM @narendramodi Ji HM @AmitShah Ji @PiyushGoyal Ji Blocked by Jehadi Di\\nॐ \\nhttps://t.co/74pFDOkGD3', url=None, entities={'description': {'urls': [{'url': 'https://t.co/74pFDOkGD3', 'expanded_url': 'http://narendramodi.in', 'display_url': 'narendramodi.in', 'indices': [138, 161]}]}}, protected=False, followers_count=30500, friends_count=572, listed_count=198, created_at=datetime.datetime(2014, 5, 7, 5, 26, 42), favourites_count=156372, utc_offset=None, time_zone=None, geo_enabled=True, verified=False, statuses_count=214842, lang=None, contributors_enabled=False, is_translator=False, is_translation_enabled=False, profile_background_color='C0DEED', profile_background_image_url='http://abs.twimg.com/images/themes/theme1/bg.png', profile_background_image_url_https='https://abs.twimg.com/images/themes/theme1/bg.png', profile_background_tile=False, profile_image_url='http://pbs.twimg.com/profile_images/1308295402269990912/ePK9UCRx_normal.jpg', profile_image_url_https='https://pbs.twimg.com/profile_images/1308295402269990912/ePK9UCRx_normal.jpg', profile_banner_url='https://pbs.twimg.com/profile_banners/2481459637/1552817986', profile_link_color='1DA1F2', profile_sidebar_border_color='C0DEED', profile_sidebar_fill_color='DDEEF6', profile_text_color='333333', profile_use_background_image=True, has_extended_profile=True, default_profile=True, default_profile_image=False, following=False, follow_request_sent=False, notifications=False, translator_type='none'), user=User(_api=<tweepy.api.API object at 0x0000021C1B2C9988>, _json={'id': 2481459637, 'id_str': '2481459637', 'name': 'Jai Prakash Shah', 'screen_name': 'jaiprakashshah2', 'location': 'Bharat-Bihar-Jharkhand & W.B ', 'description': 'IndiaFirst,Social Activists,Love Music N Politics Followed By PM @narendramodi Ji HM @AmitShah Ji @PiyushGoyal Ji Blocked by Jehadi Di\\nॐ \\nhttps://t.co/74pFDOkGD3', 'url': None, 'entities': {'description': {'urls': [{'url': 'https://t.co/74pFDOkGD3', 'expanded_url': 'http://narendramodi.in', 'display_url': 'narendramodi.in', 'indices': [138, 161]}]}}, 'protected': False, 'followers_count': 30500, 'friends_count': 572, 'listed_count': 198, 'created_at': 'Wed May 07 05:26:42 +0000 2014', 'favourites_count': 156372, 'utc_offset': None, 'time_zone': None, 'geo_enabled': True, 'verified': False, 'statuses_count': 214842, 'lang': None, 'contributors_enabled': False, 'is_translator': False, 'is_translation_enabled': False, 'profile_background_color': 'C0DEED', 'profile_background_image_url': 'http://abs.twimg.com/images/themes/theme1/bg.png', 'profile_background_image_url_https': 'https://abs.twimg.com/images/themes/theme1/bg.png', 'profile_background_tile': False, 'profile_image_url': 'http://pbs.twimg.com/profile_images/1308295402269990912/ePK9UCRx_normal.jpg', 'profile_image_url_https': 'https://pbs.twimg.com/profile_images/1308295402269990912/ePK9UCRx_normal.jpg', 'profile_banner_url': 'https://pbs.twimg.com/profile_banners/2481459637/1552817986', 'profile_link_color': '1DA1F2', 'profile_sidebar_border_color': 'C0DEED', 'profile_sidebar_fill_color': 'DDEEF6', 'profile_text_color': '333333', 'profile_use_background_image': True, 'has_extended_profile': True, 'default_profile': True, 'default_profile_image': False, 'following': False, 'follow_request_sent': False, 'notifications': False, 'translator_type': 'none'}, id=2481459637, id_str='2481459637', name='Jai Prakash Shah', screen_name='jaiprakashshah2', location='Bharat-Bihar-Jharkhand & W.B ', description='IndiaFirst,Social Activists,Love Music N Politics Followed By PM @narendramodi Ji HM @AmitShah Ji @PiyushGoyal Ji Blocked by Jehadi Di\\nॐ \\nhttps://t.co/74pFDOkGD3', url=None, entities={'description': {'urls': [{'url': 'https://t.co/74pFDOkGD3', 'expanded_url': 'http://narendramodi.in', 'display_url': 'narendramodi.in', 'indices': [138, 161]}]}}, protected=False, followers_count=30500, friends_count=572, listed_count=198, created_at=datetime.datetime(2014, 5, 7, 5, 26, 42), favourites_count=156372, utc_offset=None, time_zone=None, geo_enabled=True, verified=False, statuses_count=214842, lang=None, contributors_enabled=False, is_translator=False, is_translation_enabled=False, profile_background_color='C0DEED', profile_background_image_url='http://abs.twimg.com/images/themes/theme1/bg.png', profile_background_image_url_https='https://abs.twimg.com/images/themes/theme1/bg.png', profile_background_tile=False, profile_image_url='http://pbs.twimg.com/profile_images/1308295402269990912/ePK9UCRx_normal.jpg', profile_image_url_https='https://pbs.twimg.com/profile_images/1308295402269990912/ePK9UCRx_normal.jpg', profile_banner_url='https://pbs.twimg.com/profile_banners/2481459637/1552817986', profile_link_color='1DA1F2', profile_sidebar_border_color='C0DEED', profile_sidebar_fill_color='DDEEF6', profile_text_color='333333', profile_use_background_image=True, has_extended_profile=True, default_profile=True, default_profile_image=False, following=False, follow_request_sent=False, notifications=False, translator_type='none'), geo=None, coordinates=None, place=None, contributors=None, is_quote_status=False, retweet_count=1, favorite_count=1, favorited=False, retweeted=False, possibly_sensitive=False, lang='en')\n",
      "==============================\n",
      "Status(_api=<tweepy.api.API object at 0x0000021C1B2C9988>, _json={'created_at': 'Sat Mar 06 18:59:51 +0000 2021', 'id': 1368275149355577344, 'id_str': '1368275149355577344', 'full_text': 'PM Modi says we are giving corona vaccine to the world and in return we are getting confidence towards India\\nhttps://t.co/YLtW2NfxOE\\n\\n#BrigadeCholo \\n#PoribortonerBrigade https://t.co/ZXHHnFkjtG', 'truncated': False, 'display_text_range': [0, 169], 'entities': {'hashtags': [{'text': 'BrigadeCholo', 'indices': [134, 147]}, {'text': 'PoribortonerBrigade', 'indices': [149, 169]}], 'symbols': [], 'user_mentions': [], 'urls': [{'url': 'https://t.co/YLtW2NfxOE', 'expanded_url': 'https://navbharattimes.indiatimes.com/india/pm-narendra-modi-address-webinar-on-budget-announcement-related-to-dpiit-niti-aayog-after-covid-19-situation-vaccine-supply-to-abroad/articleshow/81344101.cms', 'display_url': 'navbharattimes.indiatimes.com/india/pm-naren…', 'indices': [109, 132]}], 'media': [{'id': 1368275144846630916, 'id_str': '1368275144846630916', 'indices': [170, 193], 'media_url': 'http://pbs.twimg.com/media/Ev0W_quUYAQO0Es.jpg', 'media_url_https': 'https://pbs.twimg.com/media/Ev0W_quUYAQO0Es.jpg', 'url': 'https://t.co/ZXHHnFkjtG', 'display_url': 'pic.twitter.com/ZXHHnFkjtG', 'expanded_url': 'https://twitter.com/jaiprakashshah2/status/1368275149355577344/photo/1', 'type': 'photo', 'sizes': {'thumb': {'w': 150, 'h': 150, 'resize': 'crop'}, 'large': {'w': 680, 'h': 1154, 'resize': 'fit'}, 'small': {'w': 401, 'h': 680, 'resize': 'fit'}, 'medium': {'w': 680, 'h': 1154, 'resize': 'fit'}}}]}, 'extended_entities': {'media': [{'id': 1368275144846630916, 'id_str': '1368275144846630916', 'indices': [170, 193], 'media_url': 'http://pbs.twimg.com/media/Ev0W_quUYAQO0Es.jpg', 'media_url_https': 'https://pbs.twimg.com/media/Ev0W_quUYAQO0Es.jpg', 'url': 'https://t.co/ZXHHnFkjtG', 'display_url': 'pic.twitter.com/ZXHHnFkjtG', 'expanded_url': 'https://twitter.com/jaiprakashshah2/status/1368275149355577344/photo/1', 'type': 'photo', 'sizes': {'thumb': {'w': 150, 'h': 150, 'resize': 'crop'}, 'large': {'w': 680, 'h': 1154, 'resize': 'fit'}, 'small': {'w': 401, 'h': 680, 'resize': 'fit'}, 'medium': {'w': 680, 'h': 1154, 'resize': 'fit'}}}]}, 'metadata': {'iso_language_code': 'en', 'result_type': 'recent'}, 'source': '<a href=\"http://twitter.com/download/android\" rel=\"nofollow\">Twitter for Android</a>', 'in_reply_to_status_id': None, 'in_reply_to_status_id_str': None, 'in_reply_to_user_id': None, 'in_reply_to_user_id_str': None, 'in_reply_to_screen_name': None, 'user': {'id': 2481459637, 'id_str': '2481459637', 'name': 'Jai Prakash Shah', 'screen_name': 'jaiprakashshah2', 'location': 'Bharat-Bihar-Jharkhand & W.B ', 'description': 'IndiaFirst,Social Activists,Love Music N Politics Followed By PM @narendramodi Ji HM @AmitShah Ji @PiyushGoyal Ji Blocked by Jehadi Di\\nॐ \\nhttps://t.co/74pFDOkGD3', 'url': None, 'entities': {'description': {'urls': [{'url': 'https://t.co/74pFDOkGD3', 'expanded_url': 'http://narendramodi.in', 'display_url': 'narendramodi.in', 'indices': [138, 161]}]}}, 'protected': False, 'followers_count': 30500, 'friends_count': 572, 'listed_count': 198, 'created_at': 'Wed May 07 05:26:42 +0000 2014', 'favourites_count': 156372, 'utc_offset': None, 'time_zone': None, 'geo_enabled': True, 'verified': False, 'statuses_count': 214842, 'lang': None, 'contributors_enabled': False, 'is_translator': False, 'is_translation_enabled': False, 'profile_background_color': 'C0DEED', 'profile_background_image_url': 'http://abs.twimg.com/images/themes/theme1/bg.png', 'profile_background_image_url_https': 'https://abs.twimg.com/images/themes/theme1/bg.png', 'profile_background_tile': False, 'profile_image_url': 'http://pbs.twimg.com/profile_images/1308295402269990912/ePK9UCRx_normal.jpg', 'profile_image_url_https': 'https://pbs.twimg.com/profile_images/1308295402269990912/ePK9UCRx_normal.jpg', 'profile_banner_url': 'https://pbs.twimg.com/profile_banners/2481459637/1552817986', 'profile_link_color': '1DA1F2', 'profile_sidebar_border_color': 'C0DEED', 'profile_sidebar_fill_color': 'DDEEF6', 'profile_text_color': '333333', 'profile_use_background_image': True, 'has_extended_profile': True, 'default_profile': True, 'default_profile_image': False, 'following': False, 'follow_request_sent': False, 'notifications': False, 'translator_type': 'none'}, 'geo': None, 'coordinates': None, 'place': None, 'contributors': None, 'is_quote_status': False, 'retweet_count': 1, 'favorite_count': 3, 'favorited': False, 'retweeted': False, 'possibly_sensitive': False, 'lang': 'en'}, created_at=datetime.datetime(2021, 3, 6, 18, 59, 51), id=1368275149355577344, id_str='1368275149355577344', full_text='PM Modi says we are giving corona vaccine to the world and in return we are getting confidence towards India\\nhttps://t.co/YLtW2NfxOE\\n\\n#BrigadeCholo \\n#PoribortonerBrigade https://t.co/ZXHHnFkjtG', truncated=False, display_text_range=[0, 169], entities={'hashtags': [{'text': 'BrigadeCholo', 'indices': [134, 147]}, {'text': 'PoribortonerBrigade', 'indices': [149, 169]}], 'symbols': [], 'user_mentions': [], 'urls': [{'url': 'https://t.co/YLtW2NfxOE', 'expanded_url': 'https://navbharattimes.indiatimes.com/india/pm-narendra-modi-address-webinar-on-budget-announcement-related-to-dpiit-niti-aayog-after-covid-19-situation-vaccine-supply-to-abroad/articleshow/81344101.cms', 'display_url': 'navbharattimes.indiatimes.com/india/pm-naren…', 'indices': [109, 132]}], 'media': [{'id': 1368275144846630916, 'id_str': '1368275144846630916', 'indices': [170, 193], 'media_url': 'http://pbs.twimg.com/media/Ev0W_quUYAQO0Es.jpg', 'media_url_https': 'https://pbs.twimg.com/media/Ev0W_quUYAQO0Es.jpg', 'url': 'https://t.co/ZXHHnFkjtG', 'display_url': 'pic.twitter.com/ZXHHnFkjtG', 'expanded_url': 'https://twitter.com/jaiprakashshah2/status/1368275149355577344/photo/1', 'type': 'photo', 'sizes': {'thumb': {'w': 150, 'h': 150, 'resize': 'crop'}, 'large': {'w': 680, 'h': 1154, 'resize': 'fit'}, 'small': {'w': 401, 'h': 680, 'resize': 'fit'}, 'medium': {'w': 680, 'h': 1154, 'resize': 'fit'}}}]}, extended_entities={'media': [{'id': 1368275144846630916, 'id_str': '1368275144846630916', 'indices': [170, 193], 'media_url': 'http://pbs.twimg.com/media/Ev0W_quUYAQO0Es.jpg', 'media_url_https': 'https://pbs.twimg.com/media/Ev0W_quUYAQO0Es.jpg', 'url': 'https://t.co/ZXHHnFkjtG', 'display_url': 'pic.twitter.com/ZXHHnFkjtG', 'expanded_url': 'https://twitter.com/jaiprakashshah2/status/1368275149355577344/photo/1', 'type': 'photo', 'sizes': {'thumb': {'w': 150, 'h': 150, 'resize': 'crop'}, 'large': {'w': 680, 'h': 1154, 'resize': 'fit'}, 'small': {'w': 401, 'h': 680, 'resize': 'fit'}, 'medium': {'w': 680, 'h': 1154, 'resize': 'fit'}}}]}, metadata={'iso_language_code': 'en', 'result_type': 'recent'}, source='Twitter for Android', source_url='http://twitter.com/download/android', in_reply_to_status_id=None, in_reply_to_status_id_str=None, in_reply_to_user_id=None, in_reply_to_user_id_str=None, in_reply_to_screen_name=None, author=User(_api=<tweepy.api.API object at 0x0000021C1B2C9988>, _json={'id': 2481459637, 'id_str': '2481459637', 'name': 'Jai Prakash Shah', 'screen_name': 'jaiprakashshah2', 'location': 'Bharat-Bihar-Jharkhand & W.B ', 'description': 'IndiaFirst,Social Activists,Love Music N Politics Followed By PM @narendramodi Ji HM @AmitShah Ji @PiyushGoyal Ji Blocked by Jehadi Di\\nॐ \\nhttps://t.co/74pFDOkGD3', 'url': None, 'entities': {'description': {'urls': [{'url': 'https://t.co/74pFDOkGD3', 'expanded_url': 'http://narendramodi.in', 'display_url': 'narendramodi.in', 'indices': [138, 161]}]}}, 'protected': False, 'followers_count': 30500, 'friends_count': 572, 'listed_count': 198, 'created_at': 'Wed May 07 05:26:42 +0000 2014', 'favourites_count': 156372, 'utc_offset': None, 'time_zone': None, 'geo_enabled': True, 'verified': False, 'statuses_count': 214842, 'lang': None, 'contributors_enabled': False, 'is_translator': False, 'is_translation_enabled': False, 'profile_background_color': 'C0DEED', 'profile_background_image_url': 'http://abs.twimg.com/images/themes/theme1/bg.png', 'profile_background_image_url_https': 'https://abs.twimg.com/images/themes/theme1/bg.png', 'profile_background_tile': False, 'profile_image_url': 'http://pbs.twimg.com/profile_images/1308295402269990912/ePK9UCRx_normal.jpg', 'profile_image_url_https': 'https://pbs.twimg.com/profile_images/1308295402269990912/ePK9UCRx_normal.jpg', 'profile_banner_url': 'https://pbs.twimg.com/profile_banners/2481459637/1552817986', 'profile_link_color': '1DA1F2', 'profile_sidebar_border_color': 'C0DEED', 'profile_sidebar_fill_color': 'DDEEF6', 'profile_text_color': '333333', 'profile_use_background_image': True, 'has_extended_profile': True, 'default_profile': True, 'default_profile_image': False, 'following': False, 'follow_request_sent': False, 'notifications': False, 'translator_type': 'none'}, id=2481459637, id_str='2481459637', name='Jai Prakash Shah', screen_name='jaiprakashshah2', location='Bharat-Bihar-Jharkhand & W.B ', description='IndiaFirst,Social Activists,Love Music N Politics Followed By PM @narendramodi Ji HM @AmitShah Ji @PiyushGoyal Ji Blocked by Jehadi Di\\nॐ \\nhttps://t.co/74pFDOkGD3', url=None, entities={'description': {'urls': [{'url': 'https://t.co/74pFDOkGD3', 'expanded_url': 'http://narendramodi.in', 'display_url': 'narendramodi.in', 'indices': [138, 161]}]}}, protected=False, followers_count=30500, friends_count=572, listed_count=198, created_at=datetime.datetime(2014, 5, 7, 5, 26, 42), favourites_count=156372, utc_offset=None, time_zone=None, geo_enabled=True, verified=False, statuses_count=214842, lang=None, contributors_enabled=False, is_translator=False, is_translation_enabled=False, profile_background_color='C0DEED', profile_background_image_url='http://abs.twimg.com/images/themes/theme1/bg.png', profile_background_image_url_https='https://abs.twimg.com/images/themes/theme1/bg.png', profile_background_tile=False, profile_image_url='http://pbs.twimg.com/profile_images/1308295402269990912/ePK9UCRx_normal.jpg', profile_image_url_https='https://pbs.twimg.com/profile_images/1308295402269990912/ePK9UCRx_normal.jpg', profile_banner_url='https://pbs.twimg.com/profile_banners/2481459637/1552817986', profile_link_color='1DA1F2', profile_sidebar_border_color='C0DEED', profile_sidebar_fill_color='DDEEF6', profile_text_color='333333', profile_use_background_image=True, has_extended_profile=True, default_profile=True, default_profile_image=False, following=False, follow_request_sent=False, notifications=False, translator_type='none'), user=User(_api=<tweepy.api.API object at 0x0000021C1B2C9988>, _json={'id': 2481459637, 'id_str': '2481459637', 'name': 'Jai Prakash Shah', 'screen_name': 'jaiprakashshah2', 'location': 'Bharat-Bihar-Jharkhand & W.B ', 'description': 'IndiaFirst,Social Activists,Love Music N Politics Followed By PM @narendramodi Ji HM @AmitShah Ji @PiyushGoyal Ji Blocked by Jehadi Di\\nॐ \\nhttps://t.co/74pFDOkGD3', 'url': None, 'entities': {'description': {'urls': [{'url': 'https://t.co/74pFDOkGD3', 'expanded_url': 'http://narendramodi.in', 'display_url': 'narendramodi.in', 'indices': [138, 161]}]}}, 'protected': False, 'followers_count': 30500, 'friends_count': 572, 'listed_count': 198, 'created_at': 'Wed May 07 05:26:42 +0000 2014', 'favourites_count': 156372, 'utc_offset': None, 'time_zone': None, 'geo_enabled': True, 'verified': False, 'statuses_count': 214842, 'lang': None, 'contributors_enabled': False, 'is_translator': False, 'is_translation_enabled': False, 'profile_background_color': 'C0DEED', 'profile_background_image_url': 'http://abs.twimg.com/images/themes/theme1/bg.png', 'profile_background_image_url_https': 'https://abs.twimg.com/images/themes/theme1/bg.png', 'profile_background_tile': False, 'profile_image_url': 'http://pbs.twimg.com/profile_images/1308295402269990912/ePK9UCRx_normal.jpg', 'profile_image_url_https': 'https://pbs.twimg.com/profile_images/1308295402269990912/ePK9UCRx_normal.jpg', 'profile_banner_url': 'https://pbs.twimg.com/profile_banners/2481459637/1552817986', 'profile_link_color': '1DA1F2', 'profile_sidebar_border_color': 'C0DEED', 'profile_sidebar_fill_color': 'DDEEF6', 'profile_text_color': '333333', 'profile_use_background_image': True, 'has_extended_profile': True, 'default_profile': True, 'default_profile_image': False, 'following': False, 'follow_request_sent': False, 'notifications': False, 'translator_type': 'none'}, id=2481459637, id_str='2481459637', name='Jai Prakash Shah', screen_name='jaiprakashshah2', location='Bharat-Bihar-Jharkhand & W.B ', description='IndiaFirst,Social Activists,Love Music N Politics Followed By PM @narendramodi Ji HM @AmitShah Ji @PiyushGoyal Ji Blocked by Jehadi Di\\nॐ \\nhttps://t.co/74pFDOkGD3', url=None, entities={'description': {'urls': [{'url': 'https://t.co/74pFDOkGD3', 'expanded_url': 'http://narendramodi.in', 'display_url': 'narendramodi.in', 'indices': [138, 161]}]}}, protected=False, followers_count=30500, friends_count=572, listed_count=198, created_at=datetime.datetime(2014, 5, 7, 5, 26, 42), favourites_count=156372, utc_offset=None, time_zone=None, geo_enabled=True, verified=False, statuses_count=214842, lang=None, contributors_enabled=False, is_translator=False, is_translation_enabled=False, profile_background_color='C0DEED', profile_background_image_url='http://abs.twimg.com/images/themes/theme1/bg.png', profile_background_image_url_https='https://abs.twimg.com/images/themes/theme1/bg.png', profile_background_tile=False, profile_image_url='http://pbs.twimg.com/profile_images/1308295402269990912/ePK9UCRx_normal.jpg', profile_image_url_https='https://pbs.twimg.com/profile_images/1308295402269990912/ePK9UCRx_normal.jpg', profile_banner_url='https://pbs.twimg.com/profile_banners/2481459637/1552817986', profile_link_color='1DA1F2', profile_sidebar_border_color='C0DEED', profile_sidebar_fill_color='DDEEF6', profile_text_color='333333', profile_use_background_image=True, has_extended_profile=True, default_profile=True, default_profile_image=False, following=False, follow_request_sent=False, notifications=False, translator_type='none'), geo=None, coordinates=None, place=None, contributors=None, is_quote_status=False, retweet_count=1, favorite_count=3, favorited=False, retweeted=False, possibly_sensitive=False, lang='en')\n",
      "==============================\n"
     ]
    }
   ],
   "source": [
    "#Lets provide the query which I need to search \n",
    "\n",
    "query = \"Covid Vaccine India\"\n",
    "\n",
    "#Fetch Tweets\n",
    "\n",
    "Tweets = api.search(query,count=10,lang='en',exclude='retweets', tweet_mode='extended')\n",
    "\n",
    "for tweet in Tweets:\n",
    "    print(tweet)\n",
    "    print(\"==============================\")"
   ]
  },
  {
   "cell_type": "markdown",
   "id": "unable-gross",
   "metadata": {},
   "source": [
    "# Getting the Tweets and some of its related Attributes "
   ]
  },
  {
   "cell_type": "code",
   "execution_count": 29,
   "id": "former-switzerland",
   "metadata": {},
   "outputs": [
    {
     "data": {
      "text/html": [
       "<div>\n",
       "<style scoped>\n",
       "    .dataframe tbody tr th:only-of-type {\n",
       "        vertical-align: middle;\n",
       "    }\n",
       "\n",
       "    .dataframe tbody tr th {\n",
       "        vertical-align: top;\n",
       "    }\n",
       "\n",
       "    .dataframe thead th {\n",
       "        text-align: right;\n",
       "    }\n",
       "</style>\n",
       "<table border=\"1\" class=\"dataframe\">\n",
       "  <thead>\n",
       "    <tr style=\"text-align: right;\">\n",
       "      <th></th>\n",
       "      <th>Tweets</th>\n",
       "      <th>User</th>\n",
       "      <th>User_statuses_count</th>\n",
       "      <th>user_followers</th>\n",
       "      <th>User_location</th>\n",
       "      <th>User_verified</th>\n",
       "      <th>fav_count</th>\n",
       "      <th>rt_count</th>\n",
       "      <th>tweet_data</th>\n",
       "    </tr>\n",
       "  </thead>\n",
       "  <tbody>\n",
       "  </tbody>\n",
       "</table>\n",
       "</div>"
      ],
      "text/plain": [
       "Empty DataFrame\n",
       "Columns: [Tweets, User, User_statuses_count, user_followers, User_location, User_verified, fav_count, rt_count, tweet_data]\n",
       "Index: []"
      ]
     },
     "execution_count": 29,
     "metadata": {},
     "output_type": "execute_result"
    }
   ],
   "source": [
    "df = pd.DataFrame(columns=[\n",
    "    'Tweets','User','User_statuses_count',\n",
    "    'user_followers','User_location','User_verified',\n",
    "    'fav_count','rt_count','tweet_data'\n",
    "])\n",
    "df"
   ]
  },
  {
   "cell_type": "code",
   "execution_count": 30,
   "id": "stable-nothing",
   "metadata": {},
   "outputs": [],
   "source": [
    "def stream(data,file_name):\n",
    "    i=0\n",
    "    for tweet in tweepy.Cursor(api.search,q=data,count=100,lang='en').items():\n",
    "        print(i,end='\\r')\n",
    "        df.loc[i,'Tweets'] = tweet.text\n",
    "        df.loc[i,'User'] = tweet.user.name\n",
    "        df.loc[i,'User_statuses_count'] = tweet.user.statuses_count\n",
    "        df.loc[i,'user_followers'] = tweet.user.followers_count\n",
    "        df.loc[i,'User_location'] = tweet.user.location\n",
    "        df.loc[i,'User_verified'] = tweet.user.verified\n",
    "        df.loc[i,'fav_count'] = tweet.favorite_count\n",
    "        df.loc[i,'rt_count'] = tweet.retweet_count\n",
    "        df.loc[i,'tweet_date'] = tweet.created_at\n",
    "        df.to_excel('{}.xlsx'.format(file_name))\n",
    "        i=i+1\n",
    "        if i == 1000:\n",
    "            break\n",
    "        else:\n",
    "            pass"
   ]
  },
  {
   "cell_type": "code",
   "execution_count": 31,
   "id": "biological-falls",
   "metadata": {},
   "outputs": [
    {
     "name": "stdout",
     "output_type": "stream",
     "text": [
      "999\r"
     ]
    }
   ],
   "source": [
    "stream(data=[\"Covid Vaccine India\"], file_name='my_tweets')"
   ]
  },
  {
   "cell_type": "code",
   "execution_count": 32,
   "id": "shaped-armenia",
   "metadata": {},
   "outputs": [
    {
     "data": {
      "text/html": [
       "<div>\n",
       "<style scoped>\n",
       "    .dataframe tbody tr th:only-of-type {\n",
       "        vertical-align: middle;\n",
       "    }\n",
       "\n",
       "    .dataframe tbody tr th {\n",
       "        vertical-align: top;\n",
       "    }\n",
       "\n",
       "    .dataframe thead th {\n",
       "        text-align: right;\n",
       "    }\n",
       "</style>\n",
       "<table border=\"1\" class=\"dataframe\">\n",
       "  <thead>\n",
       "    <tr style=\"text-align: right;\">\n",
       "      <th></th>\n",
       "      <th>Tweets</th>\n",
       "      <th>User</th>\n",
       "      <th>User_statuses_count</th>\n",
       "      <th>user_followers</th>\n",
       "      <th>User_location</th>\n",
       "      <th>User_verified</th>\n",
       "      <th>fav_count</th>\n",
       "      <th>rt_count</th>\n",
       "      <th>tweet_data</th>\n",
       "      <th>tweet_date</th>\n",
       "    </tr>\n",
       "  </thead>\n",
       "  <tbody>\n",
       "    <tr>\n",
       "      <th>0</th>\n",
       "      <td>RT @DalaiLama: His Holiness the Dalai Lama rec...</td>\n",
       "      <td>Boreas the North Wind</td>\n",
       "      <td>13559</td>\n",
       "      <td>367</td>\n",
       "      <td>Here and there</td>\n",
       "      <td>False</td>\n",
       "      <td>0</td>\n",
       "      <td>1788</td>\n",
       "      <td>NaN</td>\n",
       "      <td>2021-03-06 19:31:02</td>\n",
       "    </tr>\n",
       "    <tr>\n",
       "      <th>1</th>\n",
       "      <td>RT @DalaiLama: His Holiness the Dalai Lama rec...</td>\n",
       "      <td>Judith Weiler</td>\n",
       "      <td>4189</td>\n",
       "      <td>890</td>\n",
       "      <td>Stow, Massachusetts, USA</td>\n",
       "      <td>False</td>\n",
       "      <td>0</td>\n",
       "      <td>1788</td>\n",
       "      <td>NaN</td>\n",
       "      <td>2021-03-06 19:30:55</td>\n",
       "    </tr>\n",
       "    <tr>\n",
       "      <th>2</th>\n",
       "      <td>RT @AabidMagami: Breaking :\\n\\nGujarat Man Inf...</td>\n",
       "      <td>Yash |🇮🇳</td>\n",
       "      <td>21574</td>\n",
       "      <td>650</td>\n",
       "      <td>India</td>\n",
       "      <td>False</td>\n",
       "      <td>0</td>\n",
       "      <td>137</td>\n",
       "      <td>NaN</td>\n",
       "      <td>2021-03-06 19:30:52</td>\n",
       "    </tr>\n",
       "    <tr>\n",
       "      <th>3</th>\n",
       "      <td>#Bollywood #HemaMalini #vaccination #SaifAliKh...</td>\n",
       "      <td>FlaShBloG Live Entertainment ©</td>\n",
       "      <td>642616</td>\n",
       "      <td>1045</td>\n",
       "      <td>Italia</td>\n",
       "      <td>False</td>\n",
       "      <td>0</td>\n",
       "      <td>0</td>\n",
       "      <td>NaN</td>\n",
       "      <td>2021-03-06 19:30:32</td>\n",
       "    </tr>\n",
       "    <tr>\n",
       "      <th>4</th>\n",
       "      <td>Btw, lower-income countries are not currently ...</td>\n",
       "      <td>Pallavi Guniganti</td>\n",
       "      <td>13014</td>\n",
       "      <td>1318</td>\n",
       "      <td></td>\n",
       "      <td>False</td>\n",
       "      <td>0</td>\n",
       "      <td>0</td>\n",
       "      <td>NaN</td>\n",
       "      <td>2021-03-06 19:30:18</td>\n",
       "    </tr>\n",
       "  </tbody>\n",
       "</table>\n",
       "</div>"
      ],
      "text/plain": [
       "                                              Tweets  \\\n",
       "0  RT @DalaiLama: His Holiness the Dalai Lama rec...   \n",
       "1  RT @DalaiLama: His Holiness the Dalai Lama rec...   \n",
       "2  RT @AabidMagami: Breaking :\\n\\nGujarat Man Inf...   \n",
       "3  #Bollywood #HemaMalini #vaccination #SaifAliKh...   \n",
       "4  Btw, lower-income countries are not currently ...   \n",
       "\n",
       "                             User User_statuses_count user_followers  \\\n",
       "0           Boreas the North Wind               13559            367   \n",
       "1                   Judith Weiler                4189            890   \n",
       "2                        Yash |🇮🇳               21574            650   \n",
       "3  FlaShBloG Live Entertainment ©              642616           1045   \n",
       "4               Pallavi Guniganti               13014           1318   \n",
       "\n",
       "               User_location User_verified fav_count rt_count tweet_data  \\\n",
       "0             Here and there         False         0     1788        NaN   \n",
       "1   Stow, Massachusetts, USA         False         0     1788        NaN   \n",
       "2                      India         False         0      137        NaN   \n",
       "3                     Italia         False         0        0        NaN   \n",
       "4                                    False         0        0        NaN   \n",
       "\n",
       "           tweet_date  \n",
       "0 2021-03-06 19:31:02  \n",
       "1 2021-03-06 19:30:55  \n",
       "2 2021-03-06 19:30:52  \n",
       "3 2021-03-06 19:30:32  \n",
       "4 2021-03-06 19:30:18  "
      ]
     },
     "execution_count": 32,
     "metadata": {},
     "output_type": "execute_result"
    }
   ],
   "source": [
    "df.head()"
   ]
  },
  {
   "cell_type": "code",
   "execution_count": 33,
   "id": "saved-running",
   "metadata": {},
   "outputs": [
    {
     "data": {
      "text/plain": [
       "(1000, 10)"
      ]
     },
     "execution_count": 33,
     "metadata": {},
     "output_type": "execute_result"
    }
   ],
   "source": [
    "df.shape"
   ]
  },
  {
   "cell_type": "code",
   "execution_count": 34,
   "id": "stylish-software",
   "metadata": {},
   "outputs": [],
   "source": [
    "from textblob import TextBlob"
   ]
  },
  {
   "cell_type": "raw",
   "id": "manufactured-river",
   "metadata": {},
   "source": [
    "TextBlob has built-in sentiment property \n",
    "\n",
    "Sentiment(polarity,subjectivity)\n",
    "\n",
    "Polarity: It is a float score within a range [-1,+1]\n",
    "\n",
    "Subjectivity: It is a float value in a range [0,1] where 0 means very Objective and 1 means very subjective"
   ]
  },
  {
   "cell_type": "code",
   "execution_count": 35,
   "id": "material-shelter",
   "metadata": {},
   "outputs": [],
   "source": [
    "import re\n",
    "def clean_tweet(tweet):\n",
    "    return ' '.join(re.sub('(@[A-Za-z0-9]+)|([^0-9A-Za-z\\t])|(\\w+:\\/\\/\\S+)',' ',tweet).split())"
   ]
  },
  {
   "cell_type": "code",
   "execution_count": 36,
   "id": "official-pharmacy",
   "metadata": {},
   "outputs": [],
   "source": [
    "def analyze_sentiment(tweet):\n",
    "    analysis = TextBlob(tweet)\n",
    "    if analysis.sentiment.polarity>0:\n",
    "        return 'Positive'\n",
    "    elif analysis.sentiment.polarity==0:\n",
    "        return 'Neutral'\n",
    "    else:\n",
    "        return 'Negative'"
   ]
  },
  {
   "cell_type": "code",
   "execution_count": 37,
   "id": "portuguese-constitution",
   "metadata": {},
   "outputs": [],
   "source": [
    "df['clean_tweets'] = df['Tweets'].apply(lambda x: clean_tweet(x))"
   ]
  },
  {
   "cell_type": "code",
   "execution_count": 38,
   "id": "radio-verse",
   "metadata": {},
   "outputs": [
    {
     "data": {
      "text/html": [
       "<div>\n",
       "<style scoped>\n",
       "    .dataframe tbody tr th:only-of-type {\n",
       "        vertical-align: middle;\n",
       "    }\n",
       "\n",
       "    .dataframe tbody tr th {\n",
       "        vertical-align: top;\n",
       "    }\n",
       "\n",
       "    .dataframe thead th {\n",
       "        text-align: right;\n",
       "    }\n",
       "</style>\n",
       "<table border=\"1\" class=\"dataframe\">\n",
       "  <thead>\n",
       "    <tr style=\"text-align: right;\">\n",
       "      <th></th>\n",
       "      <th>Tweets</th>\n",
       "      <th>clean_tweets</th>\n",
       "    </tr>\n",
       "  </thead>\n",
       "  <tbody>\n",
       "    <tr>\n",
       "      <th>0</th>\n",
       "      <td>RT @DalaiLama: His Holiness the Dalai Lama rec...</td>\n",
       "      <td>RT His Holiness the Dalai Lama receiving the f...</td>\n",
       "    </tr>\n",
       "    <tr>\n",
       "      <th>1</th>\n",
       "      <td>RT @DalaiLama: His Holiness the Dalai Lama rec...</td>\n",
       "      <td>RT His Holiness the Dalai Lama receiving the f...</td>\n",
       "    </tr>\n",
       "    <tr>\n",
       "      <th>2</th>\n",
       "      <td>RT @AabidMagami: Breaking :\\n\\nGujarat Man Inf...</td>\n",
       "      <td>RT Breaking Gujarat Man Infected With Covid Af...</td>\n",
       "    </tr>\n",
       "    <tr>\n",
       "      <th>3</th>\n",
       "      <td>#Bollywood #HemaMalini #vaccination #SaifAliKh...</td>\n",
       "      <td>Bollywood HemaMalini vaccination SaifAliKhan K...</td>\n",
       "    </tr>\n",
       "    <tr>\n",
       "      <th>4</th>\n",
       "      <td>Btw, lower-income countries are not currently ...</td>\n",
       "      <td>Btw lower income countries are not currently p...</td>\n",
       "    </tr>\n",
       "  </tbody>\n",
       "</table>\n",
       "</div>"
      ],
      "text/plain": [
       "                                              Tweets  \\\n",
       "0  RT @DalaiLama: His Holiness the Dalai Lama rec...   \n",
       "1  RT @DalaiLama: His Holiness the Dalai Lama rec...   \n",
       "2  RT @AabidMagami: Breaking :\\n\\nGujarat Man Inf...   \n",
       "3  #Bollywood #HemaMalini #vaccination #SaifAliKh...   \n",
       "4  Btw, lower-income countries are not currently ...   \n",
       "\n",
       "                                        clean_tweets  \n",
       "0  RT His Holiness the Dalai Lama receiving the f...  \n",
       "1  RT His Holiness the Dalai Lama receiving the f...  \n",
       "2  RT Breaking Gujarat Man Infected With Covid Af...  \n",
       "3  Bollywood HemaMalini vaccination SaifAliKhan K...  \n",
       "4  Btw lower income countries are not currently p...  "
      ]
     },
     "execution_count": 38,
     "metadata": {},
     "output_type": "execute_result"
    }
   ],
   "source": [
    "df[['Tweets','clean_tweets']].head()"
   ]
  },
  {
   "cell_type": "code",
   "execution_count": 39,
   "id": "swiss-shakespeare",
   "metadata": {},
   "outputs": [],
   "source": [
    "df['Sentiment'] = df['clean_tweets'].apply(lambda x: analyze_sentiment(x))"
   ]
  },
  {
   "cell_type": "code",
   "execution_count": 40,
   "id": "published-system",
   "metadata": {},
   "outputs": [
    {
     "data": {
      "text/html": [
       "<div>\n",
       "<style scoped>\n",
       "    .dataframe tbody tr th:only-of-type {\n",
       "        vertical-align: middle;\n",
       "    }\n",
       "\n",
       "    .dataframe tbody tr th {\n",
       "        vertical-align: top;\n",
       "    }\n",
       "\n",
       "    .dataframe thead th {\n",
       "        text-align: right;\n",
       "    }\n",
       "</style>\n",
       "<table border=\"1\" class=\"dataframe\">\n",
       "  <thead>\n",
       "    <tr style=\"text-align: right;\">\n",
       "      <th></th>\n",
       "      <th>clean_tweets</th>\n",
       "      <th>Sentiment</th>\n",
       "    </tr>\n",
       "  </thead>\n",
       "  <tbody>\n",
       "    <tr>\n",
       "      <th>0</th>\n",
       "      <td>RT His Holiness the Dalai Lama receiving the f...</td>\n",
       "      <td>Positive</td>\n",
       "    </tr>\n",
       "    <tr>\n",
       "      <th>1</th>\n",
       "      <td>RT His Holiness the Dalai Lama receiving the f...</td>\n",
       "      <td>Positive</td>\n",
       "    </tr>\n",
       "    <tr>\n",
       "      <th>2</th>\n",
       "      <td>RT Breaking Gujarat Man Infected With Covid Af...</td>\n",
       "      <td>Neutral</td>\n",
       "    </tr>\n",
       "    <tr>\n",
       "      <th>3</th>\n",
       "      <td>Bollywood HemaMalini vaccination SaifAliKhan K...</td>\n",
       "      <td>Neutral</td>\n",
       "    </tr>\n",
       "    <tr>\n",
       "      <th>4</th>\n",
       "      <td>Btw lower income countries are not currently p...</td>\n",
       "      <td>Neutral</td>\n",
       "    </tr>\n",
       "  </tbody>\n",
       "</table>\n",
       "</div>"
      ],
      "text/plain": [
       "                                        clean_tweets Sentiment\n",
       "0  RT His Holiness the Dalai Lama receiving the f...  Positive\n",
       "1  RT His Holiness the Dalai Lama receiving the f...  Positive\n",
       "2  RT Breaking Gujarat Man Infected With Covid Af...   Neutral\n",
       "3  Bollywood HemaMalini vaccination SaifAliKhan K...   Neutral\n",
       "4  Btw lower income countries are not currently p...   Neutral"
      ]
     },
     "execution_count": 40,
     "metadata": {},
     "output_type": "execute_result"
    }
   ],
   "source": [
    "df[['clean_tweets','Sentiment']].head()"
   ]
  },
  {
   "cell_type": "code",
   "execution_count": 41,
   "id": "colonial-faith",
   "metadata": {},
   "outputs": [
    {
     "name": "stdout",
     "output_type": "stream",
     "text": [
      "Original Tweet:\n",
      "RT @iamhimanshu_raj: Finally India among the very few countries which have R&amp;D and produced it's own Covid-19 vaccine 🤘🏻🤘🏻🤘🏻\n",
      "\n",
      "I don't know…\n",
      "\n",
      "Clean Tweet:\n",
      "RT raj Finally India among the very few countries which have R amp D and produced it s own Covid 19 vaccine I don t know\n",
      "\n",
      "Sentiment:\n",
      "Positive\n"
     ]
    }
   ],
   "source": [
    "n = 20\n",
    "print('Original Tweet:\\n'+df['Tweets'][n])\n",
    "print()\n",
    "print('Clean Tweet:\\n'+df['clean_tweets'][n])\n",
    "print()\n",
    "print(\"Sentiment:\\n\"+df['Sentiment'][n])"
   ]
  },
  {
   "cell_type": "code",
   "execution_count": 42,
   "id": "forced-remains",
   "metadata": {},
   "outputs": [
    {
     "name": "stdout",
     "output_type": "stream",
     "text": [
      "Original Tweet:\n",
      "RT @MajorPoonia: Finally Pakistan requests for made in India Covid Vaccine under Global Alliance for Vaccines and Immunisation program.\n",
      "@fa…\n",
      "\n",
      "Clean Tweet:\n",
      "RT Finally Pakistan requests for made in India Covid Vaccine under Global Alliance for Vaccines and Immunisation program\n",
      "\n",
      "Sentiment:\n",
      "Neutral\n"
     ]
    }
   ],
   "source": [
    "n = 50\n",
    "print('Original Tweet:\\n'+df['Tweets'][n])\n",
    "print()\n",
    "print('Clean Tweet:\\n'+df['clean_tweets'][n])\n",
    "print()\n",
    "print(\"Sentiment:\\n\"+df['Sentiment'][n])"
   ]
  },
  {
   "cell_type": "code",
   "execution_count": 43,
   "id": "recreational-somerset",
   "metadata": {},
   "outputs": [
    {
     "data": {
      "text/plain": [
       "374"
      ]
     },
     "execution_count": 43,
     "metadata": {},
     "output_type": "execute_result"
    }
   ],
   "source": [
    "df[df.Sentiment=='Positive'].shape[0]"
   ]
  },
  {
   "cell_type": "code",
   "execution_count": 44,
   "id": "native-relevance",
   "metadata": {},
   "outputs": [
    {
     "data": {
      "text/plain": [
       "592"
      ]
     },
     "execution_count": 44,
     "metadata": {},
     "output_type": "execute_result"
    }
   ],
   "source": [
    "df[df.Sentiment=='Neutral'].shape[0]"
   ]
  },
  {
   "cell_type": "code",
   "execution_count": 45,
   "id": "spanish-novelty",
   "metadata": {},
   "outputs": [
    {
     "data": {
      "text/plain": [
       "34"
      ]
     },
     "execution_count": 45,
     "metadata": {},
     "output_type": "execute_result"
    }
   ],
   "source": [
    "df[df.Sentiment=='Negative'].shape[0]"
   ]
  },
  {
   "cell_type": "raw",
   "id": "activated-smile",
   "metadata": {},
   "source": [
    "data = US election Joe Biden\n",
    "Postitive = 356\n",
    "Neutral = 329\n",
    "Negative = 315\n",
    "\n",
    "\n",
    "data = Covid Vaccine India\n",
    "Postitive = 374\n",
    "Neutral = 592\n",
    "Negative = 34\n",
    "\n",
    "\n",
    "data = India vs England Test 4\n",
    "Postitive = 142\n",
    "Neutral = 475\n",
    "Negative = 51"
   ]
  },
  {
   "cell_type": "code",
   "execution_count": null,
   "id": "secure-structure",
   "metadata": {},
   "outputs": [],
   "source": [
    "         "
   ]
  }
 ],
 "metadata": {
  "kernelspec": {
   "display_name": "Python 3",
   "language": "python",
   "name": "python3"
  },
  "language_info": {
   "codemirror_mode": {
    "name": "ipython",
    "version": 3
   },
   "file_extension": ".py",
   "mimetype": "text/x-python",
   "name": "python",
   "nbconvert_exporter": "python",
   "pygments_lexer": "ipython3",
   "version": "3.7.9"
  }
 },
 "nbformat": 4,
 "nbformat_minor": 5
}
